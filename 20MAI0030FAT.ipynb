{
  "nbformat": 4,
  "nbformat_minor": 0,
  "metadata": {
    "colab": {
      "name": "20MAI0030QNO2.ipynb",
      "provenance": [],
      "authorship_tag": "ABX9TyPNDcrNSm6NQgbh+B4RYPPc",
      "include_colab_link": true
    },
    "kernelspec": {
      "name": "python3",
      "display_name": "Python 3"
    },
    "language_info": {
      "name": "python"
    }
  },
  "cells": [
    {
      "cell_type": "markdown",
      "metadata": {
        "id": "view-in-github",
        "colab_type": "text"
      },
      "source": [
        "<a href=\"https://colab.research.google.com/github/PradeepKumarM30/MLWithLargeData/blob/main/20MAI0030FAT.ipynb\" target=\"_parent\"><img src=\"https://colab.research.google.com/assets/colab-badge.svg\" alt=\"Open In Colab\"/></a>"
      ]
    },
    {
      "cell_type": "code",
      "metadata": {
        "id": "PR2UCSdqs-LJ"
      },
      "source": [
        "#Load Imports\n",
        "import numpy as np"
      ],
      "execution_count": 1,
      "outputs": []
    },
    {
      "cell_type": "code",
      "metadata": {
        "id": "WCVP1C13tExw"
      },
      "source": [
        "#Load Files - This file was created in local machine with some random inputs and not taken from any online dataset\n",
        "file = np.loadtxt(open(\"/content/sample_data/data.csv\", \"rb\"), delimiter=\",\", skiprows=1) "
      ],
      "execution_count": 2,
      "outputs": []
    },
    {
      "cell_type": "code",
      "metadata": {
        "colab": {
          "base_uri": "https://localhost:8080/"
        },
        "id": "GigEhwVgtLKs",
        "outputId": "1b89a7ba-6f5a-4dc7-dec3-c0dff02b66b2"
      },
      "source": [
        "#Visualising the data \n",
        "file"
      ],
      "execution_count": 3,
      "outputs": [
        {
          "output_type": "execute_result",
          "data": {
            "text/plain": [
              "array([[-1., -1.,  0.],\n",
              "       [-1.,  1.,  1.],\n",
              "       [ 1., -1.,  1.],\n",
              "       [ 1.,  1.,  1.]])"
            ]
          },
          "metadata": {
            "tags": []
          },
          "execution_count": 3
        }
      ]
    },
    {
      "cell_type": "code",
      "metadata": {
        "id": "FtvDJLzmtNWJ"
      },
      "source": [
        "#converting rows and columns to each other for vectorisation that will happen later in this code\n",
        "new_file = file.T"
      ],
      "execution_count": 4,
      "outputs": []
    },
    {
      "cell_type": "code",
      "metadata": {
        "colab": {
          "base_uri": "https://localhost:8080/"
        },
        "id": "bIr9G0UntPil",
        "outputId": "02d50227-bc1f-44fd-aed1-9e7c0c0fa1a0"
      },
      "source": [
        "#Now the new file looks like\n",
        "print(new_file)"
      ],
      "execution_count": 5,
      "outputs": [
        {
          "output_type": "stream",
          "text": [
            "[[-1. -1.  1.  1.]\n",
            " [-1.  1. -1.  1.]\n",
            " [ 0.  1.  1.  1.]]\n"
          ],
          "name": "stdout"
        }
      ]
    },
    {
      "cell_type": "code",
      "metadata": {
        "id": "1EevSY6ttRev"
      },
      "source": [
        "#Assign train values \n",
        "X_train,Y_train = new_file[0:2,:],new_file[2,:] #take the input data from file "
      ],
      "execution_count": 6,
      "outputs": []
    },
    {
      "cell_type": "code",
      "metadata": {
        "colab": {
          "base_uri": "https://localhost:8080/"
        },
        "id": "Q9yx3YI-tTo9",
        "outputId": "96d69dc7-ac76-418b-d3fe-7bcbda7f67ba"
      },
      "source": [
        "#input snapshot\n",
        "print(X_train,' ',Y_train)"
      ],
      "execution_count": 7,
      "outputs": [
        {
          "output_type": "stream",
          "text": [
            "[[-1. -1.  1.  1.]\n",
            " [-1.  1. -1.  1.]]   [0. 1. 1. 1.]\n"
          ],
          "name": "stdout"
        }
      ]
    },
    {
      "cell_type": "code",
      "metadata": {
        "id": "i5W3xxlW6n1Z",
        "outputId": "56c7fb2b-d37e-485d-b380-c443ec7e4e5f",
        "colab": {
          "base_uri": "https://localhost:8080/"
        }
      },
      "source": [
        "print(X_train[:,0])"
      ],
      "execution_count": 26,
      "outputs": [
        {
          "output_type": "stream",
          "text": [
            "[-1. -1.]\n"
          ],
          "name": "stdout"
        }
      ]
    },
    {
      "cell_type": "code",
      "metadata": {
        "id": "2itfYEwztVma"
      },
      "source": [
        "#initialise weight and bias matrix\n",
        "def initialize_with_zeros(dim):\n",
        "   \n",
        "    w = np.zeros((dim,1))\n",
        "    b = 0\n",
        "   \n",
        "    assert(w.shape == (dim, 1))\n",
        "    assert(isinstance(b, float) or isinstance(b, int))\n",
        "    \n",
        "    return w, b"
      ],
      "execution_count": 8,
      "outputs": []
    },
    {
      "cell_type": "code",
      "metadata": {
        "id": "drQoGJ_xtZvK"
      },
      "source": [
        "#Sigmoid activation utility\n",
        "def sigmoid(z):\n",
        "   \n",
        "    s = 1/(1+(np.exp(-z)))\n",
        "    \n",
        "    return s"
      ],
      "execution_count": 9,
      "outputs": []
    },
    {
      "cell_type": "code",
      "metadata": {
        "id": "DWnubFTgtb6D"
      },
      "source": [
        "def binary_activation(z):\n",
        "  s = np.zeros(z.shape)\n",
        "  rows = z.shape[0]\n",
        "  cols = z.shape[1]\n",
        "  for x in range(0, rows):\n",
        "    for y in range(0, cols):\n",
        "         if z[x,y]  >= 0.2: \n",
        "           s[x,y] = 1\n",
        "         else :\n",
        "           s[x,y] = 0\n",
        "  return s"
      ],
      "execution_count": 10,
      "outputs": []
    },
    {
      "cell_type": "code",
      "metadata": {
        "id": "UMnPowPlteH3"
      },
      "source": [
        "#forward propogation\n",
        "def propagate(w, b, X, Y):\n",
        "    \n",
        "    m = X.shape[1]\n",
        "    \n",
        "    A = binary_activation(np.dot(w.T,X)+b)                                   \n",
        "    cost = (-1/m) * (np.dot(Y,(np.log(A)).T) + np.dot(1-Y,(np.log(1-A)).T))                               \n",
        "    dw = np.dot(X,(A-Y).T)/m\n",
        "    db = (1/m) * np.sum(A-Y)\n",
        "\n",
        "    assert(dw.shape == w.shape)\n",
        "    assert(db.dtype == float)\n",
        "    cost = np.squeeze(cost)\n",
        "    assert(cost.shape == ())\n",
        "    \n",
        "    grads = {\"dw\": dw,\n",
        "             \"db\": db}\n",
        "    \n",
        "    return grads, cost"
      ],
      "execution_count": 11,
      "outputs": []
    },
    {
      "cell_type": "code",
      "metadata": {
        "id": "qvQEsVSstgmz"
      },
      "source": [
        "#doing the computations\n",
        "def optimize(w, b, X, Y, num_iterations, learning_rate, print_cost = False):\n",
        "    \n",
        "    costs = []\n",
        "    \n",
        "    for i in range(num_iterations):\n",
        "      for row in range(0,X.shape[1]):\n",
        "        grads, cost = propagate(w,b,X[:,row:row+1],Y[row])\n",
        "\n",
        "        print(X.shape)\n",
        "\n",
        "        print(\"Printing x1: \",X[:,0:1],\" Printing Y: \",Y[0],\"  \")\n",
        "        print(\"Printing x1: \",X[:,1:2],\" Printing Y: \",Y[1],\"  \")\n",
        "        print(\"Printing x1: \",X[:,2:3],\" Printing Y: \",Y[2],\"  \")\n",
        "        print(\"Printing x1: \",X[:,3:4],\" Printing Y: \",Y[3],\"  \")\n",
        "        \n",
        "        dw = grads[\"dw\"]\n",
        "        db = grads[\"db\"]\n",
        "        \n",
        "        w = w - (learning_rate * dw)\n",
        "        b = b - (learning_rate * db)\n",
        "        \n",
        "        if i % 100 == 0:\n",
        "            costs.append(cost)\n",
        "        \n",
        "        if print_cost and i % 10 == 0:\n",
        "            print (\"Cost after iteration %i: %f\" %(i, cost))\n",
        "    \n",
        "    \n",
        "    params = {\"w\": w,\n",
        "              \"b\": b}\n",
        "    \n",
        "    grads = {\"dw\": dw,\n",
        "             \"db\": db}\n",
        "    \n",
        "    return params, grads, costs"
      ],
      "execution_count": 105,
      "outputs": []
    },
    {
      "cell_type": "code",
      "metadata": {
        "id": "OrthorAGtjaP"
      },
      "source": [
        "#Perceptron driver code\n",
        "def perceptron(X_train, Y_train, num_iterations, learning_rate = 0.5):\n",
        "   \n",
        "    w,b = initialize_with_zeros(X_train.shape[0])\n",
        "\n",
        "    parameters, grads, costs = optimize(w, b, X_train, Y_train, num_iterations, learning_rate)\n",
        "    \n",
        "    w = parameters[\"w\"]\n",
        "    b = parameters[\"b\"]\n",
        "    \n",
        "#    Y_prediction_test = predict(w, b, X_test)\n",
        "    Y_prediction_train = predict(w, b, X_train)\n",
        "\n",
        "    print(\"train accuracy: {} %\".format(100 - np.mean(np.abs(Y_prediction_train - Y_train)) * 100))\n",
        "#    print(\"test accuracy: {} %\".format(100 - np.mean(np.abs(Y_prediction_test - Y_test)) * 100))\n",
        "\n",
        "    \n",
        "    d = {\"costs\": costs, \n",
        "         \"Y_prediction_train\" : Y_prediction_train, \n",
        "         \"w\" : w, \n",
        "         \"b\" : b,\n",
        "         \"learning_rate\" : learning_rate,\n",
        "         \"num_iterations\": num_iterations}\n",
        "    \n",
        "    return d"
      ],
      "execution_count": 106,
      "outputs": []
    },
    {
      "cell_type": "code",
      "metadata": {
        "id": "x1U4L3urtlm5"
      },
      "source": [
        "#function to predict models performance\n",
        "def predict(w, b, X):\n",
        "    \n",
        "    m = X.shape[1]\n",
        "    Y_prediction = np.zeros((1,m))\n",
        "    w = w.reshape(X.shape[0], 1)\n",
        "    \n",
        "    A = binary_activation(np.dot(w.T,X)+b)\n",
        "    \n",
        "    for i in range(A.shape[1]):\n",
        "        Y_prediction[:,i] = 1 if A[:,i] > 0.52 else 0\n",
        "    \n",
        "    assert(Y_prediction.shape == (1, m))\n",
        "    \n",
        "    return Y_prediction"
      ],
      "execution_count": 107,
      "outputs": []
    },
    {
      "cell_type": "code",
      "metadata": {
        "colab": {
          "base_uri": "https://localhost:8080/"
        },
        "id": "WM-M4CQTtneK",
        "outputId": "36dee93a-5f0b-431d-9583-ea4436ba1787"
      },
      "source": [
        "#the main driver code\n",
        "print(\" M PRADEEP KUMAR - 20MAI0030\")\n",
        "output_dict = perceptron(X_train,Y_train,2,1)\n",
        "print(output_dict)"
      ],
      "execution_count": 108,
      "outputs": [
        {
          "output_type": "stream",
          "text": [
            " M PRADEEP KUMAR - 20MAI0030\n",
            "(2, 4)\n",
            "Printing x1:  [[-1.]\n",
            " [-1.]]  Printing Y:  0.0   \n",
            "Printing x1:  [[-1.]\n",
            " [ 1.]]  Printing Y:  1.0   \n",
            "Printing x1:  [[ 1.]\n",
            " [-1.]]  Printing Y:  1.0   \n",
            "Printing x1:  [[1.]\n",
            " [1.]]  Printing Y:  1.0   \n",
            "(2, 4)\n",
            "Printing x1:  [[-1.]\n",
            " [-1.]]  Printing Y:  0.0   \n",
            "Printing x1:  [[-1.]\n",
            " [ 1.]]  Printing Y:  1.0   \n",
            "Printing x1:  [[ 1.]\n",
            " [-1.]]  Printing Y:  1.0   \n",
            "Printing x1:  [[1.]\n",
            " [1.]]  Printing Y:  1.0   \n",
            "(2, 4)\n",
            "Printing x1:  [[-1.]\n",
            " [-1.]]  Printing Y:  0.0   \n",
            "Printing x1:  [[-1.]\n",
            " [ 1.]]  Printing Y:  1.0   \n",
            "Printing x1:  [[ 1.]\n",
            " [-1.]]  Printing Y:  1.0   \n",
            "Printing x1:  [[1.]\n",
            " [1.]]  Printing Y:  1.0   \n",
            "(2, 4)\n",
            "Printing x1:  [[-1.]\n",
            " [-1.]]  Printing Y:  0.0   \n",
            "Printing x1:  [[-1.]\n",
            " [ 1.]]  Printing Y:  1.0   \n",
            "Printing x1:  [[ 1.]\n",
            " [-1.]]  Printing Y:  1.0   \n",
            "Printing x1:  [[1.]\n",
            " [1.]]  Printing Y:  1.0   \n",
            "(2, 4)\n",
            "Printing x1:  [[-1.]\n",
            " [-1.]]  Printing Y:  0.0   \n",
            "Printing x1:  [[-1.]\n",
            " [ 1.]]  Printing Y:  1.0   \n",
            "Printing x1:  [[ 1.]\n",
            " [-1.]]  Printing Y:  1.0   \n",
            "Printing x1:  [[1.]\n",
            " [1.]]  Printing Y:  1.0   \n",
            "(2, 4)\n",
            "Printing x1:  [[-1.]\n",
            " [-1.]]  Printing Y:  0.0   \n",
            "Printing x1:  [[-1.]\n",
            " [ 1.]]  Printing Y:  1.0   \n",
            "Printing x1:  [[ 1.]\n",
            " [-1.]]  Printing Y:  1.0   \n",
            "Printing x1:  [[1.]\n",
            " [1.]]  Printing Y:  1.0   \n",
            "(2, 4)\n",
            "Printing x1:  [[-1.]\n",
            " [-1.]]  Printing Y:  0.0   \n",
            "Printing x1:  [[-1.]\n",
            " [ 1.]]  Printing Y:  1.0   \n",
            "Printing x1:  [[ 1.]\n",
            " [-1.]]  Printing Y:  1.0   \n",
            "Printing x1:  [[1.]\n",
            " [1.]]  Printing Y:  1.0   \n",
            "(2, 4)\n",
            "Printing x1:  [[-1.]\n",
            " [-1.]]  Printing Y:  0.0   \n",
            "Printing x1:  [[-1.]\n",
            " [ 1.]]  Printing Y:  1.0   \n",
            "Printing x1:  [[ 1.]\n",
            " [-1.]]  Printing Y:  1.0   \n",
            "Printing x1:  [[1.]\n",
            " [1.]]  Printing Y:  1.0   \n",
            "train accuracy: 100.0 %\n",
            "{'costs': [array(nan), array(inf), array(inf), array(nan)], 'Y_prediction_train': array([[0., 1., 1., 1.]]), 'w': array([[1.],\n",
            "       [1.]]), 'b': 1.0, 'learning_rate': 1, 'num_iterations': 2}\n"
          ],
          "name": "stdout"
        },
        {
          "output_type": "stream",
          "text": [
            "/usr/local/lib/python3.7/dist-packages/ipykernel_launcher.py:7: RuntimeWarning: divide by zero encountered in log\n",
            "  import sys\n"
          ],
          "name": "stderr"
        }
      ]
    },
    {
      "cell_type": "code",
      "metadata": {
        "id": "xWNU2N-twIjY"
      },
      "source": [
        ""
      ],
      "execution_count": 30,
      "outputs": []
    }
  ]
}