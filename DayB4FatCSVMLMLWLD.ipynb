{
  "nbformat": 4,
  "nbformat_minor": 0,
  "metadata": {
    "colab": {
      "name": "DayB4FatCSVML.ipynb",
      "provenance": [],
      "collapsed_sections": [],
      "authorship_tag": "ABX9TyOJjicc81jdc74oDaXiHd6G",
      "include_colab_link": true
    },
    "kernelspec": {
      "name": "python3",
      "display_name": "Python 3"
    },
    "language_info": {
      "name": "python"
    }
  },
  "cells": [
    {
      "cell_type": "markdown",
      "metadata": {
        "id": "view-in-github",
        "colab_type": "text"
      },
      "source": [
        "<a href=\"https://colab.research.google.com/github/PradeepKumarM30/MLWithLargeData/blob/main/DayB4FatCSVMLMLWLD.ipynb\" target=\"_parent\"><img src=\"https://colab.research.google.com/assets/colab-badge.svg\" alt=\"Open In Colab\"/></a>"
      ]
    },
    {
      "cell_type": "code",
      "metadata": {
        "id": "WvFjyUuJHV3z"
      },
      "source": [
        "import sklearn.datasets\n",
        "import pandas as pd\n",
        "from sklearn.metrics import mean_squared_error\n",
        "from sklearn.metrics import confusion_matrix,accuracy_score,f1_score,precision_score,recall_score,classification_report\n",
        "import seaborn as sns\n",
        "import numpy as np"
      ],
      "execution_count": 255,
      "outputs": []
    },
    {
      "cell_type": "code",
      "metadata": {
        "colab": {
          "base_uri": "https://localhost:8080/",
          "height": 296
        },
        "id": "3HpVdKLpI7oJ",
        "outputId": "3391edbe-9a01-4ebd-a822-9271aad0ae23"
      },
      "source": [
        "df = pd.read_csv(\"/content/sample_data/loan.csv\")\n",
        "df.head()"
      ],
      "execution_count": 256,
      "outputs": [
        {
          "output_type": "execute_result",
          "data": {
            "text/html": [
              "<div>\n",
              "<style scoped>\n",
              "    .dataframe tbody tr th:only-of-type {\n",
              "        vertical-align: middle;\n",
              "    }\n",
              "\n",
              "    .dataframe tbody tr th {\n",
              "        vertical-align: top;\n",
              "    }\n",
              "\n",
              "    .dataframe thead th {\n",
              "        text-align: right;\n",
              "    }\n",
              "</style>\n",
              "<table border=\"1\" class=\"dataframe\">\n",
              "  <thead>\n",
              "    <tr style=\"text-align: right;\">\n",
              "      <th></th>\n",
              "      <th>customer_id</th>\n",
              "      <th>disbursed_amount</th>\n",
              "      <th>interest</th>\n",
              "      <th>market</th>\n",
              "      <th>employment</th>\n",
              "      <th>time_employed</th>\n",
              "      <th>householder</th>\n",
              "      <th>income</th>\n",
              "      <th>date_issued</th>\n",
              "      <th>target</th>\n",
              "      <th>loan_purpose</th>\n",
              "      <th>number_open_accounts</th>\n",
              "      <th>date_last_payment</th>\n",
              "      <th>number_credit_lines_12</th>\n",
              "    </tr>\n",
              "  </thead>\n",
              "  <tbody>\n",
              "    <tr>\n",
              "      <th>0</th>\n",
              "      <td>0</td>\n",
              "      <td>23201.5</td>\n",
              "      <td>15.4840</td>\n",
              "      <td>C</td>\n",
              "      <td>Teacher</td>\n",
              "      <td>&lt;=5 years</td>\n",
              "      <td>RENT</td>\n",
              "      <td>84600.0</td>\n",
              "      <td>2013-06-11</td>\n",
              "      <td>0</td>\n",
              "      <td>Debt consolidation</td>\n",
              "      <td>4.0</td>\n",
              "      <td>2016-01-14</td>\n",
              "      <td>NaN</td>\n",
              "    </tr>\n",
              "    <tr>\n",
              "      <th>1</th>\n",
              "      <td>1</td>\n",
              "      <td>7425.0</td>\n",
              "      <td>11.2032</td>\n",
              "      <td>B</td>\n",
              "      <td>Accountant</td>\n",
              "      <td>&lt;=5 years</td>\n",
              "      <td>OWNER</td>\n",
              "      <td>102000.0</td>\n",
              "      <td>2014-05-08</td>\n",
              "      <td>0</td>\n",
              "      <td>Car purchase</td>\n",
              "      <td>13.0</td>\n",
              "      <td>2016-01-25</td>\n",
              "      <td>NaN</td>\n",
              "    </tr>\n",
              "    <tr>\n",
              "      <th>2</th>\n",
              "      <td>2</td>\n",
              "      <td>11150.0</td>\n",
              "      <td>8.5100</td>\n",
              "      <td>A</td>\n",
              "      <td>Statistician</td>\n",
              "      <td>&lt;=5 years</td>\n",
              "      <td>RENT</td>\n",
              "      <td>69840.0</td>\n",
              "      <td>2013-10-26</td>\n",
              "      <td>0</td>\n",
              "      <td>Debt consolidation</td>\n",
              "      <td>8.0</td>\n",
              "      <td>2014-09-26</td>\n",
              "      <td>NaN</td>\n",
              "    </tr>\n",
              "    <tr>\n",
              "      <th>3</th>\n",
              "      <td>3</td>\n",
              "      <td>7600.0</td>\n",
              "      <td>5.8656</td>\n",
              "      <td>A</td>\n",
              "      <td>Other</td>\n",
              "      <td>&lt;=5 years</td>\n",
              "      <td>RENT</td>\n",
              "      <td>100386.0</td>\n",
              "      <td>2015-08-20</td>\n",
              "      <td>0</td>\n",
              "      <td>Debt consolidation</td>\n",
              "      <td>20.0</td>\n",
              "      <td>2016-01-26</td>\n",
              "      <td>NaN</td>\n",
              "    </tr>\n",
              "    <tr>\n",
              "      <th>4</th>\n",
              "      <td>4</td>\n",
              "      <td>31960.0</td>\n",
              "      <td>18.7392</td>\n",
              "      <td>E</td>\n",
              "      <td>Bus driver</td>\n",
              "      <td>&gt;5 years</td>\n",
              "      <td>RENT</td>\n",
              "      <td>95040.0</td>\n",
              "      <td>2014-07-22</td>\n",
              "      <td>0</td>\n",
              "      <td>Debt consolidation</td>\n",
              "      <td>14.0</td>\n",
              "      <td>2016-01-11</td>\n",
              "      <td>NaN</td>\n",
              "    </tr>\n",
              "  </tbody>\n",
              "</table>\n",
              "</div>"
            ],
            "text/plain": [
              "   customer_id  disbursed_amount  ...  date_last_payment number_credit_lines_12\n",
              "0            0           23201.5  ...         2016-01-14                    NaN\n",
              "1            1            7425.0  ...         2016-01-25                    NaN\n",
              "2            2           11150.0  ...         2014-09-26                    NaN\n",
              "3            3            7600.0  ...         2016-01-26                    NaN\n",
              "4            4           31960.0  ...         2016-01-11                    NaN\n",
              "\n",
              "[5 rows x 14 columns]"
            ]
          },
          "metadata": {
            "tags": []
          },
          "execution_count": 256
        }
      ]
    },
    {
      "cell_type": "code",
      "metadata": {
        "colab": {
          "base_uri": "https://localhost:8080/",
          "height": 556
        },
        "id": "WcGxI6arJC38",
        "outputId": "dabda0d9-eb5f-4858-d19b-bc0afb0f4cb6"
      },
      "source": [
        "df.tail(10)"
      ],
      "execution_count": 257,
      "outputs": [
        {
          "output_type": "execute_result",
          "data": {
            "text/html": [
              "<div>\n",
              "<style scoped>\n",
              "    .dataframe tbody tr th:only-of-type {\n",
              "        vertical-align: middle;\n",
              "    }\n",
              "\n",
              "    .dataframe tbody tr th {\n",
              "        vertical-align: top;\n",
              "    }\n",
              "\n",
              "    .dataframe thead th {\n",
              "        text-align: right;\n",
              "    }\n",
              "</style>\n",
              "<table border=\"1\" class=\"dataframe\">\n",
              "  <thead>\n",
              "    <tr style=\"text-align: right;\">\n",
              "      <th></th>\n",
              "      <th>customer_id</th>\n",
              "      <th>disbursed_amount</th>\n",
              "      <th>interest</th>\n",
              "      <th>market</th>\n",
              "      <th>employment</th>\n",
              "      <th>time_employed</th>\n",
              "      <th>householder</th>\n",
              "      <th>income</th>\n",
              "      <th>date_issued</th>\n",
              "      <th>target</th>\n",
              "      <th>loan_purpose</th>\n",
              "      <th>number_open_accounts</th>\n",
              "      <th>date_last_payment</th>\n",
              "      <th>number_credit_lines_12</th>\n",
              "    </tr>\n",
              "  </thead>\n",
              "  <tbody>\n",
              "    <tr>\n",
              "      <th>9990</th>\n",
              "      <td>9990</td>\n",
              "      <td>19200.0</td>\n",
              "      <td>14.6734</td>\n",
              "      <td>C</td>\n",
              "      <td>Statistician</td>\n",
              "      <td>&gt;5 years</td>\n",
              "      <td>MORTGAGE</td>\n",
              "      <td>46865.0</td>\n",
              "      <td>2013-09-02</td>\n",
              "      <td>0</td>\n",
              "      <td>Debt consolidation</td>\n",
              "      <td>16.0</td>\n",
              "      <td>2015-12-16</td>\n",
              "      <td>NaN</td>\n",
              "    </tr>\n",
              "    <tr>\n",
              "      <th>9991</th>\n",
              "      <td>9991</td>\n",
              "      <td>20580.0</td>\n",
              "      <td>12.0442</td>\n",
              "      <td>C</td>\n",
              "      <td>Software developer</td>\n",
              "      <td>&gt;5 years</td>\n",
              "      <td>RENT</td>\n",
              "      <td>47000.0</td>\n",
              "      <td>2015-08-14</td>\n",
              "      <td>0</td>\n",
              "      <td>Debt consolidation</td>\n",
              "      <td>6.0</td>\n",
              "      <td>2016-01-18</td>\n",
              "      <td>NaN</td>\n",
              "    </tr>\n",
              "    <tr>\n",
              "      <th>9992</th>\n",
              "      <td>9992</td>\n",
              "      <td>1470.0</td>\n",
              "      <td>12.5900</td>\n",
              "      <td>C</td>\n",
              "      <td>Statistician</td>\n",
              "      <td>&lt;=5 years</td>\n",
              "      <td>RENT</td>\n",
              "      <td>23660.0</td>\n",
              "      <td>2015-12-19</td>\n",
              "      <td>0</td>\n",
              "      <td>Debt consolidation</td>\n",
              "      <td>6.0</td>\n",
              "      <td>2016-01-24</td>\n",
              "      <td>1.0</td>\n",
              "    </tr>\n",
              "    <tr>\n",
              "      <th>9993</th>\n",
              "      <td>9993</td>\n",
              "      <td>11640.0</td>\n",
              "      <td>13.3083</td>\n",
              "      <td>C</td>\n",
              "      <td>Other</td>\n",
              "      <td>&lt;=5 years</td>\n",
              "      <td>MORTGAGE</td>\n",
              "      <td>57960.0</td>\n",
              "      <td>2015-01-17</td>\n",
              "      <td>0</td>\n",
              "      <td>Debt consolidation</td>\n",
              "      <td>6.0</td>\n",
              "      <td>2015-12-27</td>\n",
              "      <td>NaN</td>\n",
              "    </tr>\n",
              "    <tr>\n",
              "      <th>9994</th>\n",
              "      <td>9994</td>\n",
              "      <td>5520.0</td>\n",
              "      <td>10.6603</td>\n",
              "      <td>B</td>\n",
              "      <td>Accountant</td>\n",
              "      <td>&lt;=5 years</td>\n",
              "      <td>RENT</td>\n",
              "      <td>30380.0</td>\n",
              "      <td>2015-11-17</td>\n",
              "      <td>0</td>\n",
              "      <td>Debt consolidation</td>\n",
              "      <td>12.0</td>\n",
              "      <td>2016-01-20</td>\n",
              "      <td>NaN</td>\n",
              "    </tr>\n",
              "    <tr>\n",
              "      <th>9995</th>\n",
              "      <td>9995</td>\n",
              "      <td>23750.0</td>\n",
              "      <td>11.0019</td>\n",
              "      <td>B</td>\n",
              "      <td>Civil Servant</td>\n",
              "      <td>&lt;=5 years</td>\n",
              "      <td>MORTGAGE</td>\n",
              "      <td>98000.0</td>\n",
              "      <td>2010-01-14</td>\n",
              "      <td>0</td>\n",
              "      <td>Other</td>\n",
              "      <td>12.0</td>\n",
              "      <td>2010-11-03</td>\n",
              "      <td>NaN</td>\n",
              "    </tr>\n",
              "    <tr>\n",
              "      <th>9996</th>\n",
              "      <td>9996</td>\n",
              "      <td>11880.0</td>\n",
              "      <td>10.4923</td>\n",
              "      <td>B</td>\n",
              "      <td>Civil Servant</td>\n",
              "      <td>&lt;=5 years</td>\n",
              "      <td>RENT</td>\n",
              "      <td>36270.0</td>\n",
              "      <td>2015-03-20</td>\n",
              "      <td>0</td>\n",
              "      <td>Debt consolidation</td>\n",
              "      <td>17.0</td>\n",
              "      <td>2016-01-26</td>\n",
              "      <td>NaN</td>\n",
              "    </tr>\n",
              "    <tr>\n",
              "      <th>9997</th>\n",
              "      <td>9997</td>\n",
              "      <td>19950.0</td>\n",
              "      <td>8.4364</td>\n",
              "      <td>B</td>\n",
              "      <td>Accountant</td>\n",
              "      <td>&gt;5 years</td>\n",
              "      <td>OWNER</td>\n",
              "      <td>52250.0</td>\n",
              "      <td>2015-04-03</td>\n",
              "      <td>0</td>\n",
              "      <td>Debt consolidation</td>\n",
              "      <td>9.0</td>\n",
              "      <td>2015-12-12</td>\n",
              "      <td>NaN</td>\n",
              "    </tr>\n",
              "    <tr>\n",
              "      <th>9998</th>\n",
              "      <td>9998</td>\n",
              "      <td>4850.0</td>\n",
              "      <td>13.6409</td>\n",
              "      <td>C</td>\n",
              "      <td>Bus driver</td>\n",
              "      <td>&gt;5 years</td>\n",
              "      <td>RENT</td>\n",
              "      <td>80040.0</td>\n",
              "      <td>2014-11-23</td>\n",
              "      <td>0</td>\n",
              "      <td>Debt consolidation</td>\n",
              "      <td>26.0</td>\n",
              "      <td>2016-01-01</td>\n",
              "      <td>NaN</td>\n",
              "    </tr>\n",
              "    <tr>\n",
              "      <th>9999</th>\n",
              "      <td>9999</td>\n",
              "      <td>25584.0</td>\n",
              "      <td>17.1456</td>\n",
              "      <td>D</td>\n",
              "      <td>Accountant</td>\n",
              "      <td>&gt;5 years</td>\n",
              "      <td>MORTGAGE</td>\n",
              "      <td>72000.0</td>\n",
              "      <td>2015-01-19</td>\n",
              "      <td>0</td>\n",
              "      <td>Debt consolidation</td>\n",
              "      <td>5.0</td>\n",
              "      <td>2016-01-16</td>\n",
              "      <td>NaN</td>\n",
              "    </tr>\n",
              "  </tbody>\n",
              "</table>\n",
              "</div>"
            ],
            "text/plain": [
              "      customer_id  disbursed_amount  ...  date_last_payment number_credit_lines_12\n",
              "9990         9990           19200.0  ...         2015-12-16                    NaN\n",
              "9991         9991           20580.0  ...         2016-01-18                    NaN\n",
              "9992         9992            1470.0  ...         2016-01-24                    1.0\n",
              "9993         9993           11640.0  ...         2015-12-27                    NaN\n",
              "9994         9994            5520.0  ...         2016-01-20                    NaN\n",
              "9995         9995           23750.0  ...         2010-11-03                    NaN\n",
              "9996         9996           11880.0  ...         2016-01-26                    NaN\n",
              "9997         9997           19950.0  ...         2015-12-12                    NaN\n",
              "9998         9998            4850.0  ...         2016-01-01                    NaN\n",
              "9999         9999           25584.0  ...         2016-01-16                    NaN\n",
              "\n",
              "[10 rows x 14 columns]"
            ]
          },
          "metadata": {
            "tags": []
          },
          "execution_count": 257
        }
      ]
    },
    {
      "cell_type": "code",
      "metadata": {
        "colab": {
          "base_uri": "https://localhost:8080/"
        },
        "id": "nikoIqN1JH8s",
        "outputId": "5900c143-ebb6-4e1b-c5e0-5786e4e0d966"
      },
      "source": [
        "df.dtypes"
      ],
      "execution_count": 258,
      "outputs": [
        {
          "output_type": "execute_result",
          "data": {
            "text/plain": [
              "customer_id                 int64\n",
              "disbursed_amount          float64\n",
              "interest                  float64\n",
              "market                     object\n",
              "employment                 object\n",
              "time_employed              object\n",
              "householder                object\n",
              "income                    float64\n",
              "date_issued                object\n",
              "target                      int64\n",
              "loan_purpose               object\n",
              "number_open_accounts      float64\n",
              "date_last_payment          object\n",
              "number_credit_lines_12    float64\n",
              "dtype: object"
            ]
          },
          "metadata": {
            "tags": []
          },
          "execution_count": 258
        }
      ]
    },
    {
      "cell_type": "code",
      "metadata": {
        "colab": {
          "base_uri": "https://localhost:8080/"
        },
        "id": "QdVngEKlJYmG",
        "outputId": "e5fef824-9a8a-40aa-c8af-70f4648fbd08"
      },
      "source": [
        "df[\"number_credit_lines_12\"].isna().sum()"
      ],
      "execution_count": 259,
      "outputs": [
        {
          "output_type": "execute_result",
          "data": {
            "text/plain": [
              "9762"
            ]
          },
          "metadata": {
            "tags": []
          },
          "execution_count": 259
        }
      ]
    },
    {
      "cell_type": "code",
      "metadata": {
        "colab": {
          "base_uri": "https://localhost:8080/"
        },
        "id": "XnlM4_3WJmFZ",
        "outputId": "344d48ab-82bc-47f9-a8b7-484a173b10c3"
      },
      "source": [
        "df[\"disbursed_amount\"].fillna(df[\"disbursed_amount\"].mean())"
      ],
      "execution_count": 260,
      "outputs": [
        {
          "output_type": "execute_result",
          "data": {
            "text/plain": [
              "0       23201.5\n",
              "1        7425.0\n",
              "2       11150.0\n",
              "3        7600.0\n",
              "4       31960.0\n",
              "         ...   \n",
              "9995    23750.0\n",
              "9996    11880.0\n",
              "9997    19950.0\n",
              "9998     4850.0\n",
              "9999    25584.0\n",
              "Name: disbursed_amount, Length: 10000, dtype: float64"
            ]
          },
          "metadata": {
            "tags": []
          },
          "execution_count": 260
        }
      ]
    },
    {
      "cell_type": "code",
      "metadata": {
        "id": "TRIPwIo7J091"
      },
      "source": [
        "values = {'employment': 'Other'}\n",
        "df.fillna(value=values,inplace=True)"
      ],
      "execution_count": 261,
      "outputs": []
    },
    {
      "cell_type": "code",
      "metadata": {
        "id": "0hVa_0SJLcFg"
      },
      "source": [
        "values = {'time_employed': 'NA'}\n",
        "df.fillna(value=values,inplace=True)"
      ],
      "execution_count": 262,
      "outputs": []
    },
    {
      "cell_type": "code",
      "metadata": {
        "id": "15H5C6zoLula"
      },
      "source": [
        "df[\"number_credit_lines_12\"].fillna(df[\"number_credit_lines_12\"].mean(),inplace=True)"
      ],
      "execution_count": 263,
      "outputs": []
    },
    {
      "cell_type": "code",
      "metadata": {
        "colab": {
          "base_uri": "https://localhost:8080/",
          "height": 296
        },
        "id": "QqJ9N3KhMQKq",
        "outputId": "a6e175c1-b217-4092-fe5d-27dd49250c3e"
      },
      "source": [
        "df.head()"
      ],
      "execution_count": 264,
      "outputs": [
        {
          "output_type": "execute_result",
          "data": {
            "text/html": [
              "<div>\n",
              "<style scoped>\n",
              "    .dataframe tbody tr th:only-of-type {\n",
              "        vertical-align: middle;\n",
              "    }\n",
              "\n",
              "    .dataframe tbody tr th {\n",
              "        vertical-align: top;\n",
              "    }\n",
              "\n",
              "    .dataframe thead th {\n",
              "        text-align: right;\n",
              "    }\n",
              "</style>\n",
              "<table border=\"1\" class=\"dataframe\">\n",
              "  <thead>\n",
              "    <tr style=\"text-align: right;\">\n",
              "      <th></th>\n",
              "      <th>customer_id</th>\n",
              "      <th>disbursed_amount</th>\n",
              "      <th>interest</th>\n",
              "      <th>market</th>\n",
              "      <th>employment</th>\n",
              "      <th>time_employed</th>\n",
              "      <th>householder</th>\n",
              "      <th>income</th>\n",
              "      <th>date_issued</th>\n",
              "      <th>target</th>\n",
              "      <th>loan_purpose</th>\n",
              "      <th>number_open_accounts</th>\n",
              "      <th>date_last_payment</th>\n",
              "      <th>number_credit_lines_12</th>\n",
              "    </tr>\n",
              "  </thead>\n",
              "  <tbody>\n",
              "    <tr>\n",
              "      <th>0</th>\n",
              "      <td>0</td>\n",
              "      <td>23201.5</td>\n",
              "      <td>15.4840</td>\n",
              "      <td>C</td>\n",
              "      <td>Teacher</td>\n",
              "      <td>&lt;=5 years</td>\n",
              "      <td>RENT</td>\n",
              "      <td>84600.0</td>\n",
              "      <td>2013-06-11</td>\n",
              "      <td>0</td>\n",
              "      <td>Debt consolidation</td>\n",
              "      <td>4.0</td>\n",
              "      <td>2016-01-14</td>\n",
              "      <td>1.785714</td>\n",
              "    </tr>\n",
              "    <tr>\n",
              "      <th>1</th>\n",
              "      <td>1</td>\n",
              "      <td>7425.0</td>\n",
              "      <td>11.2032</td>\n",
              "      <td>B</td>\n",
              "      <td>Accountant</td>\n",
              "      <td>&lt;=5 years</td>\n",
              "      <td>OWNER</td>\n",
              "      <td>102000.0</td>\n",
              "      <td>2014-05-08</td>\n",
              "      <td>0</td>\n",
              "      <td>Car purchase</td>\n",
              "      <td>13.0</td>\n",
              "      <td>2016-01-25</td>\n",
              "      <td>1.785714</td>\n",
              "    </tr>\n",
              "    <tr>\n",
              "      <th>2</th>\n",
              "      <td>2</td>\n",
              "      <td>11150.0</td>\n",
              "      <td>8.5100</td>\n",
              "      <td>A</td>\n",
              "      <td>Statistician</td>\n",
              "      <td>&lt;=5 years</td>\n",
              "      <td>RENT</td>\n",
              "      <td>69840.0</td>\n",
              "      <td>2013-10-26</td>\n",
              "      <td>0</td>\n",
              "      <td>Debt consolidation</td>\n",
              "      <td>8.0</td>\n",
              "      <td>2014-09-26</td>\n",
              "      <td>1.785714</td>\n",
              "    </tr>\n",
              "    <tr>\n",
              "      <th>3</th>\n",
              "      <td>3</td>\n",
              "      <td>7600.0</td>\n",
              "      <td>5.8656</td>\n",
              "      <td>A</td>\n",
              "      <td>Other</td>\n",
              "      <td>&lt;=5 years</td>\n",
              "      <td>RENT</td>\n",
              "      <td>100386.0</td>\n",
              "      <td>2015-08-20</td>\n",
              "      <td>0</td>\n",
              "      <td>Debt consolidation</td>\n",
              "      <td>20.0</td>\n",
              "      <td>2016-01-26</td>\n",
              "      <td>1.785714</td>\n",
              "    </tr>\n",
              "    <tr>\n",
              "      <th>4</th>\n",
              "      <td>4</td>\n",
              "      <td>31960.0</td>\n",
              "      <td>18.7392</td>\n",
              "      <td>E</td>\n",
              "      <td>Bus driver</td>\n",
              "      <td>&gt;5 years</td>\n",
              "      <td>RENT</td>\n",
              "      <td>95040.0</td>\n",
              "      <td>2014-07-22</td>\n",
              "      <td>0</td>\n",
              "      <td>Debt consolidation</td>\n",
              "      <td>14.0</td>\n",
              "      <td>2016-01-11</td>\n",
              "      <td>1.785714</td>\n",
              "    </tr>\n",
              "  </tbody>\n",
              "</table>\n",
              "</div>"
            ],
            "text/plain": [
              "   customer_id  disbursed_amount  ...  date_last_payment number_credit_lines_12\n",
              "0            0           23201.5  ...         2016-01-14               1.785714\n",
              "1            1            7425.0  ...         2016-01-25               1.785714\n",
              "2            2           11150.0  ...         2014-09-26               1.785714\n",
              "3            3            7600.0  ...         2016-01-26               1.785714\n",
              "4            4           31960.0  ...         2016-01-11               1.785714\n",
              "\n",
              "[5 rows x 14 columns]"
            ]
          },
          "metadata": {
            "tags": []
          },
          "execution_count": 264
        }
      ]
    },
    {
      "cell_type": "code",
      "metadata": {
        "colab": {
          "base_uri": "https://localhost:8080/"
        },
        "id": "dmDXIVXRMS3f",
        "outputId": "95e0561b-474f-4621-ed08-2c913ea5512d"
      },
      "source": [
        "df[\"market\"].value_counts()"
      ],
      "execution_count": 265,
      "outputs": [
        {
          "output_type": "execute_result",
          "data": {
            "text/plain": [
              "B    2846\n",
              "C    2730\n",
              "A    1673\n",
              "D    1577\n",
              "E    1174\n",
              "Name: market, dtype: int64"
            ]
          },
          "metadata": {
            "tags": []
          },
          "execution_count": 265
        }
      ]
    },
    {
      "cell_type": "code",
      "metadata": {
        "id": "sm9geP-3MmnF"
      },
      "source": [
        "df[\"market\"] = df[\"market\"].astype('category')\n",
        "df[\"market_enc\"] = df[\"market\"].cat.codes\n"
      ],
      "execution_count": 266,
      "outputs": []
    },
    {
      "cell_type": "code",
      "metadata": {
        "colab": {
          "base_uri": "https://localhost:8080/"
        },
        "id": "3xvZ8bQ4M9ck",
        "outputId": "3c1fcc6d-3ef5-4b2f-dc0f-2aad1ac29488"
      },
      "source": [
        "df[\"householder\"].value_counts()"
      ],
      "execution_count": 267,
      "outputs": [
        {
          "output_type": "execute_result",
          "data": {
            "text/plain": [
              "MORTGAGE    4957\n",
              "RENT        4055\n",
              "OWNER        988\n",
              "Name: householder, dtype: int64"
            ]
          },
          "metadata": {
            "tags": []
          },
          "execution_count": 267
        }
      ]
    },
    {
      "cell_type": "code",
      "metadata": {
        "id": "tc4k83-vNFke"
      },
      "source": [
        "df[\"employment\"] = df[\"employment\"].astype('category')\n",
        "df[\"employment_enc\"] = df[\"employment\"].cat.codes"
      ],
      "execution_count": 268,
      "outputs": []
    },
    {
      "cell_type": "code",
      "metadata": {
        "id": "KfR_TgImNLY4"
      },
      "source": [
        "df[\"time_employed\"] = df[\"time_employed\"].astype('category')\n",
        "df[\"time_employed_enc\"] = df[\"time_employed\"].cat.codes"
      ],
      "execution_count": 269,
      "outputs": []
    },
    {
      "cell_type": "code",
      "metadata": {
        "id": "sIbJzUr6NSQu"
      },
      "source": [
        "df['householder'] = df['householder'].apply(lambda val:1 if val == 'MORTGAGE' else (2 if val == 'RENT' else 3)) #point no 3\n"
      ],
      "execution_count": 270,
      "outputs": []
    },
    {
      "cell_type": "code",
      "metadata": {
        "id": "86WNd5OgNhKt"
      },
      "source": [
        "df[\"date_issued\"] = df[\"date_issued\"].astype('category')\n",
        "df[\"date_issued_enc\"] = df[\"date_issued\"].cat.codes\n"
      ],
      "execution_count": 271,
      "outputs": []
    },
    {
      "cell_type": "code",
      "metadata": {
        "id": "polh4NtYNugN"
      },
      "source": [
        "df[\"loan_purpose\"] = df[\"loan_purpose\"].astype('category')\n",
        "df[\"loan_purpose_enc\"] = df[\"loan_purpose\"].cat.codes\n"
      ],
      "execution_count": 272,
      "outputs": []
    },
    {
      "cell_type": "code",
      "metadata": {
        "id": "iM9jxcC6N5GG"
      },
      "source": [
        "df[\"date_last_payment\"] = df[\"date_last_payment\"].astype('category')\n",
        "df[\"date_last_payment_enc\"] = df[\"date_last_payment\"].cat.codes\n"
      ],
      "execution_count": 273,
      "outputs": []
    },
    {
      "cell_type": "code",
      "metadata": {
        "colab": {
          "base_uri": "https://localhost:8080/",
          "height": 296
        },
        "id": "J8re5qQIOCQ3",
        "outputId": "3bf32903-35e2-417c-ae99-304f69c61a87"
      },
      "source": [
        "df.head()"
      ],
      "execution_count": 274,
      "outputs": [
        {
          "output_type": "execute_result",
          "data": {
            "text/html": [
              "<div>\n",
              "<style scoped>\n",
              "    .dataframe tbody tr th:only-of-type {\n",
              "        vertical-align: middle;\n",
              "    }\n",
              "\n",
              "    .dataframe tbody tr th {\n",
              "        vertical-align: top;\n",
              "    }\n",
              "\n",
              "    .dataframe thead th {\n",
              "        text-align: right;\n",
              "    }\n",
              "</style>\n",
              "<table border=\"1\" class=\"dataframe\">\n",
              "  <thead>\n",
              "    <tr style=\"text-align: right;\">\n",
              "      <th></th>\n",
              "      <th>customer_id</th>\n",
              "      <th>disbursed_amount</th>\n",
              "      <th>interest</th>\n",
              "      <th>market</th>\n",
              "      <th>employment</th>\n",
              "      <th>time_employed</th>\n",
              "      <th>householder</th>\n",
              "      <th>income</th>\n",
              "      <th>date_issued</th>\n",
              "      <th>target</th>\n",
              "      <th>loan_purpose</th>\n",
              "      <th>number_open_accounts</th>\n",
              "      <th>date_last_payment</th>\n",
              "      <th>number_credit_lines_12</th>\n",
              "      <th>market_enc</th>\n",
              "      <th>employment_enc</th>\n",
              "      <th>time_employed_enc</th>\n",
              "      <th>date_issued_enc</th>\n",
              "      <th>loan_purpose_enc</th>\n",
              "      <th>date_last_payment_enc</th>\n",
              "    </tr>\n",
              "  </thead>\n",
              "  <tbody>\n",
              "    <tr>\n",
              "      <th>0</th>\n",
              "      <td>0</td>\n",
              "      <td>23201.5</td>\n",
              "      <td>15.4840</td>\n",
              "      <td>C</td>\n",
              "      <td>Teacher</td>\n",
              "      <td>&lt;=5 years</td>\n",
              "      <td>2</td>\n",
              "      <td>84600.0</td>\n",
              "      <td>2013-06-11</td>\n",
              "      <td>0</td>\n",
              "      <td>Debt consolidation</td>\n",
              "      <td>4.0</td>\n",
              "      <td>2016-01-14</td>\n",
              "      <td>1.785714</td>\n",
              "      <td>2</td>\n",
              "      <td>10</td>\n",
              "      <td>0</td>\n",
              "      <td>821</td>\n",
              "      <td>1</td>\n",
              "      <td>1057</td>\n",
              "    </tr>\n",
              "    <tr>\n",
              "      <th>1</th>\n",
              "      <td>1</td>\n",
              "      <td>7425.0</td>\n",
              "      <td>11.2032</td>\n",
              "      <td>B</td>\n",
              "      <td>Accountant</td>\n",
              "      <td>&lt;=5 years</td>\n",
              "      <td>3</td>\n",
              "      <td>102000.0</td>\n",
              "      <td>2014-05-08</td>\n",
              "      <td>0</td>\n",
              "      <td>Car purchase</td>\n",
              "      <td>13.0</td>\n",
              "      <td>2016-01-25</td>\n",
              "      <td>1.785714</td>\n",
              "      <td>1</td>\n",
              "      <td>0</td>\n",
              "      <td>0</td>\n",
              "      <td>1111</td>\n",
              "      <td>0</td>\n",
              "      <td>1068</td>\n",
              "    </tr>\n",
              "    <tr>\n",
              "      <th>2</th>\n",
              "      <td>2</td>\n",
              "      <td>11150.0</td>\n",
              "      <td>8.5100</td>\n",
              "      <td>A</td>\n",
              "      <td>Statistician</td>\n",
              "      <td>&lt;=5 years</td>\n",
              "      <td>2</td>\n",
              "      <td>69840.0</td>\n",
              "      <td>2013-10-26</td>\n",
              "      <td>0</td>\n",
              "      <td>Debt consolidation</td>\n",
              "      <td>8.0</td>\n",
              "      <td>2014-09-26</td>\n",
              "      <td>1.785714</td>\n",
              "      <td>0</td>\n",
              "      <td>8</td>\n",
              "      <td>0</td>\n",
              "      <td>941</td>\n",
              "      <td>1</td>\n",
              "      <td>645</td>\n",
              "    </tr>\n",
              "    <tr>\n",
              "      <th>3</th>\n",
              "      <td>3</td>\n",
              "      <td>7600.0</td>\n",
              "      <td>5.8656</td>\n",
              "      <td>A</td>\n",
              "      <td>Other</td>\n",
              "      <td>&lt;=5 years</td>\n",
              "      <td>2</td>\n",
              "      <td>100386.0</td>\n",
              "      <td>2015-08-20</td>\n",
              "      <td>0</td>\n",
              "      <td>Debt consolidation</td>\n",
              "      <td>20.0</td>\n",
              "      <td>2016-01-26</td>\n",
              "      <td>1.785714</td>\n",
              "      <td>0</td>\n",
              "      <td>5</td>\n",
              "      <td>0</td>\n",
              "      <td>1526</td>\n",
              "      <td>1</td>\n",
              "      <td>1069</td>\n",
              "    </tr>\n",
              "    <tr>\n",
              "      <th>4</th>\n",
              "      <td>4</td>\n",
              "      <td>31960.0</td>\n",
              "      <td>18.7392</td>\n",
              "      <td>E</td>\n",
              "      <td>Bus driver</td>\n",
              "      <td>&gt;5 years</td>\n",
              "      <td>2</td>\n",
              "      <td>95040.0</td>\n",
              "      <td>2014-07-22</td>\n",
              "      <td>0</td>\n",
              "      <td>Debt consolidation</td>\n",
              "      <td>14.0</td>\n",
              "      <td>2016-01-11</td>\n",
              "      <td>1.785714</td>\n",
              "      <td>4</td>\n",
              "      <td>1</td>\n",
              "      <td>1</td>\n",
              "      <td>1179</td>\n",
              "      <td>1</td>\n",
              "      <td>1054</td>\n",
              "    </tr>\n",
              "  </tbody>\n",
              "</table>\n",
              "</div>"
            ],
            "text/plain": [
              "   customer_id  disbursed_amount  ...  loan_purpose_enc date_last_payment_enc\n",
              "0            0           23201.5  ...                 1                  1057\n",
              "1            1            7425.0  ...                 0                  1068\n",
              "2            2           11150.0  ...                 1                   645\n",
              "3            3            7600.0  ...                 1                  1069\n",
              "4            4           31960.0  ...                 1                  1054\n",
              "\n",
              "[5 rows x 20 columns]"
            ]
          },
          "metadata": {
            "tags": []
          },
          "execution_count": 274
        }
      ]
    },
    {
      "cell_type": "code",
      "metadata": {
        "colab": {
          "base_uri": "https://localhost:8080/",
          "height": 226
        },
        "id": "kTOLvnE0OETR",
        "outputId": "da2d9eff-bfe8-42e1-98d5-ea3a934e9ebe"
      },
      "source": [
        "df.drop(columns=['employment', 'market','time_employed','date_issued','loan_purpose','date_last_payment'],inplace=True)\n",
        "df.head()"
      ],
      "execution_count": 275,
      "outputs": [
        {
          "output_type": "execute_result",
          "data": {
            "text/html": [
              "<div>\n",
              "<style scoped>\n",
              "    .dataframe tbody tr th:only-of-type {\n",
              "        vertical-align: middle;\n",
              "    }\n",
              "\n",
              "    .dataframe tbody tr th {\n",
              "        vertical-align: top;\n",
              "    }\n",
              "\n",
              "    .dataframe thead th {\n",
              "        text-align: right;\n",
              "    }\n",
              "</style>\n",
              "<table border=\"1\" class=\"dataframe\">\n",
              "  <thead>\n",
              "    <tr style=\"text-align: right;\">\n",
              "      <th></th>\n",
              "      <th>customer_id</th>\n",
              "      <th>disbursed_amount</th>\n",
              "      <th>interest</th>\n",
              "      <th>householder</th>\n",
              "      <th>income</th>\n",
              "      <th>target</th>\n",
              "      <th>number_open_accounts</th>\n",
              "      <th>number_credit_lines_12</th>\n",
              "      <th>market_enc</th>\n",
              "      <th>employment_enc</th>\n",
              "      <th>time_employed_enc</th>\n",
              "      <th>date_issued_enc</th>\n",
              "      <th>loan_purpose_enc</th>\n",
              "      <th>date_last_payment_enc</th>\n",
              "    </tr>\n",
              "  </thead>\n",
              "  <tbody>\n",
              "    <tr>\n",
              "      <th>0</th>\n",
              "      <td>0</td>\n",
              "      <td>23201.5</td>\n",
              "      <td>15.4840</td>\n",
              "      <td>2</td>\n",
              "      <td>84600.0</td>\n",
              "      <td>0</td>\n",
              "      <td>4.0</td>\n",
              "      <td>1.785714</td>\n",
              "      <td>2</td>\n",
              "      <td>10</td>\n",
              "      <td>0</td>\n",
              "      <td>821</td>\n",
              "      <td>1</td>\n",
              "      <td>1057</td>\n",
              "    </tr>\n",
              "    <tr>\n",
              "      <th>1</th>\n",
              "      <td>1</td>\n",
              "      <td>7425.0</td>\n",
              "      <td>11.2032</td>\n",
              "      <td>3</td>\n",
              "      <td>102000.0</td>\n",
              "      <td>0</td>\n",
              "      <td>13.0</td>\n",
              "      <td>1.785714</td>\n",
              "      <td>1</td>\n",
              "      <td>0</td>\n",
              "      <td>0</td>\n",
              "      <td>1111</td>\n",
              "      <td>0</td>\n",
              "      <td>1068</td>\n",
              "    </tr>\n",
              "    <tr>\n",
              "      <th>2</th>\n",
              "      <td>2</td>\n",
              "      <td>11150.0</td>\n",
              "      <td>8.5100</td>\n",
              "      <td>2</td>\n",
              "      <td>69840.0</td>\n",
              "      <td>0</td>\n",
              "      <td>8.0</td>\n",
              "      <td>1.785714</td>\n",
              "      <td>0</td>\n",
              "      <td>8</td>\n",
              "      <td>0</td>\n",
              "      <td>941</td>\n",
              "      <td>1</td>\n",
              "      <td>645</td>\n",
              "    </tr>\n",
              "    <tr>\n",
              "      <th>3</th>\n",
              "      <td>3</td>\n",
              "      <td>7600.0</td>\n",
              "      <td>5.8656</td>\n",
              "      <td>2</td>\n",
              "      <td>100386.0</td>\n",
              "      <td>0</td>\n",
              "      <td>20.0</td>\n",
              "      <td>1.785714</td>\n",
              "      <td>0</td>\n",
              "      <td>5</td>\n",
              "      <td>0</td>\n",
              "      <td>1526</td>\n",
              "      <td>1</td>\n",
              "      <td>1069</td>\n",
              "    </tr>\n",
              "    <tr>\n",
              "      <th>4</th>\n",
              "      <td>4</td>\n",
              "      <td>31960.0</td>\n",
              "      <td>18.7392</td>\n",
              "      <td>2</td>\n",
              "      <td>95040.0</td>\n",
              "      <td>0</td>\n",
              "      <td>14.0</td>\n",
              "      <td>1.785714</td>\n",
              "      <td>4</td>\n",
              "      <td>1</td>\n",
              "      <td>1</td>\n",
              "      <td>1179</td>\n",
              "      <td>1</td>\n",
              "      <td>1054</td>\n",
              "    </tr>\n",
              "  </tbody>\n",
              "</table>\n",
              "</div>"
            ],
            "text/plain": [
              "   customer_id  disbursed_amount  ...  loan_purpose_enc  date_last_payment_enc\n",
              "0            0           23201.5  ...                 1                   1057\n",
              "1            1            7425.0  ...                 0                   1068\n",
              "2            2           11150.0  ...                 1                    645\n",
              "3            3            7600.0  ...                 1                   1069\n",
              "4            4           31960.0  ...                 1                   1054\n",
              "\n",
              "[5 rows x 14 columns]"
            ]
          },
          "metadata": {
            "tags": []
          },
          "execution_count": 275
        }
      ]
    },
    {
      "cell_type": "code",
      "metadata": {
        "id": "UGAVGPHkOpzn"
      },
      "source": [
        "df.drop(columns=['customer_id'],inplace=True)"
      ],
      "execution_count": 276,
      "outputs": []
    },
    {
      "cell_type": "code",
      "metadata": {
        "colab": {
          "base_uri": "https://localhost:8080/",
          "height": 226
        },
        "id": "wKsH6x99O0Vu",
        "outputId": "e5f27eaa-60ec-4839-dda7-16969a02feb1"
      },
      "source": [
        "df.head()"
      ],
      "execution_count": 277,
      "outputs": [
        {
          "output_type": "execute_result",
          "data": {
            "text/html": [
              "<div>\n",
              "<style scoped>\n",
              "    .dataframe tbody tr th:only-of-type {\n",
              "        vertical-align: middle;\n",
              "    }\n",
              "\n",
              "    .dataframe tbody tr th {\n",
              "        vertical-align: top;\n",
              "    }\n",
              "\n",
              "    .dataframe thead th {\n",
              "        text-align: right;\n",
              "    }\n",
              "</style>\n",
              "<table border=\"1\" class=\"dataframe\">\n",
              "  <thead>\n",
              "    <tr style=\"text-align: right;\">\n",
              "      <th></th>\n",
              "      <th>disbursed_amount</th>\n",
              "      <th>interest</th>\n",
              "      <th>householder</th>\n",
              "      <th>income</th>\n",
              "      <th>target</th>\n",
              "      <th>number_open_accounts</th>\n",
              "      <th>number_credit_lines_12</th>\n",
              "      <th>market_enc</th>\n",
              "      <th>employment_enc</th>\n",
              "      <th>time_employed_enc</th>\n",
              "      <th>date_issued_enc</th>\n",
              "      <th>loan_purpose_enc</th>\n",
              "      <th>date_last_payment_enc</th>\n",
              "    </tr>\n",
              "  </thead>\n",
              "  <tbody>\n",
              "    <tr>\n",
              "      <th>0</th>\n",
              "      <td>23201.5</td>\n",
              "      <td>15.4840</td>\n",
              "      <td>2</td>\n",
              "      <td>84600.0</td>\n",
              "      <td>0</td>\n",
              "      <td>4.0</td>\n",
              "      <td>1.785714</td>\n",
              "      <td>2</td>\n",
              "      <td>10</td>\n",
              "      <td>0</td>\n",
              "      <td>821</td>\n",
              "      <td>1</td>\n",
              "      <td>1057</td>\n",
              "    </tr>\n",
              "    <tr>\n",
              "      <th>1</th>\n",
              "      <td>7425.0</td>\n",
              "      <td>11.2032</td>\n",
              "      <td>3</td>\n",
              "      <td>102000.0</td>\n",
              "      <td>0</td>\n",
              "      <td>13.0</td>\n",
              "      <td>1.785714</td>\n",
              "      <td>1</td>\n",
              "      <td>0</td>\n",
              "      <td>0</td>\n",
              "      <td>1111</td>\n",
              "      <td>0</td>\n",
              "      <td>1068</td>\n",
              "    </tr>\n",
              "    <tr>\n",
              "      <th>2</th>\n",
              "      <td>11150.0</td>\n",
              "      <td>8.5100</td>\n",
              "      <td>2</td>\n",
              "      <td>69840.0</td>\n",
              "      <td>0</td>\n",
              "      <td>8.0</td>\n",
              "      <td>1.785714</td>\n",
              "      <td>0</td>\n",
              "      <td>8</td>\n",
              "      <td>0</td>\n",
              "      <td>941</td>\n",
              "      <td>1</td>\n",
              "      <td>645</td>\n",
              "    </tr>\n",
              "    <tr>\n",
              "      <th>3</th>\n",
              "      <td>7600.0</td>\n",
              "      <td>5.8656</td>\n",
              "      <td>2</td>\n",
              "      <td>100386.0</td>\n",
              "      <td>0</td>\n",
              "      <td>20.0</td>\n",
              "      <td>1.785714</td>\n",
              "      <td>0</td>\n",
              "      <td>5</td>\n",
              "      <td>0</td>\n",
              "      <td>1526</td>\n",
              "      <td>1</td>\n",
              "      <td>1069</td>\n",
              "    </tr>\n",
              "    <tr>\n",
              "      <th>4</th>\n",
              "      <td>31960.0</td>\n",
              "      <td>18.7392</td>\n",
              "      <td>2</td>\n",
              "      <td>95040.0</td>\n",
              "      <td>0</td>\n",
              "      <td>14.0</td>\n",
              "      <td>1.785714</td>\n",
              "      <td>4</td>\n",
              "      <td>1</td>\n",
              "      <td>1</td>\n",
              "      <td>1179</td>\n",
              "      <td>1</td>\n",
              "      <td>1054</td>\n",
              "    </tr>\n",
              "  </tbody>\n",
              "</table>\n",
              "</div>"
            ],
            "text/plain": [
              "   disbursed_amount  interest  ...  loan_purpose_enc  date_last_payment_enc\n",
              "0           23201.5   15.4840  ...                 1                   1057\n",
              "1            7425.0   11.2032  ...                 0                   1068\n",
              "2           11150.0    8.5100  ...                 1                    645\n",
              "3            7600.0    5.8656  ...                 1                   1069\n",
              "4           31960.0   18.7392  ...                 1                   1054\n",
              "\n",
              "[5 rows x 13 columns]"
            ]
          },
          "metadata": {
            "tags": []
          },
          "execution_count": 277
        }
      ]
    },
    {
      "cell_type": "code",
      "metadata": {
        "id": "GIfJoYPGO2YT"
      },
      "source": [
        "from sklearn.preprocessing import StandardScaler\n",
        "scaler = StandardScaler()\n",
        "df[[\"disbursed_amount\",\"interest\",\"householder\",\"income\",\"number_open_accounts\",\"number_credit_lines_12\",\"market_enc\",\"employment_enc\",\"time_employed_enc\",\"date_issued_enc\",\"loan_purpose_enc\",\"date_last_payment_enc\"]] = scaler.fit_transform(df[[\"disbursed_amount\",\"interest\",\"householder\",\"income\",\"number_open_accounts\",\"number_credit_lines_12\",\"market_enc\",\"employment_enc\",\"time_employed_enc\",\"date_issued_enc\",\"loan_purpose_enc\",\"date_last_payment_enc\"]])"
      ],
      "execution_count": 278,
      "outputs": []
    },
    {
      "cell_type": "code",
      "metadata": {
        "id": "wSArCWkOSG_j"
      },
      "source": [
        "from sklearn.preprocessing import MinMaxScaler\n",
        "scaler = MinMaxScaler()\n",
        "df[[\"disbursed_amount\",\"interest\",\"householder\",\"income\",\"number_open_accounts\",\"number_credit_lines_12\",\"market_enc\",\"employment_enc\",\"time_employed_enc\",\"date_issued_enc\",\"loan_purpose_enc\",\"date_last_payment_enc\"]] = scaler.fit_transform(df[[\"disbursed_amount\",\"interest\",\"householder\",\"income\",\"number_open_accounts\",\"number_credit_lines_12\",\"market_enc\",\"employment_enc\",\"time_employed_enc\",\"date_issued_enc\",\"loan_purpose_enc\",\"date_last_payment_enc\"]])"
      ],
      "execution_count": null,
      "outputs": []
    },
    {
      "cell_type": "code",
      "metadata": {
        "colab": {
          "base_uri": "https://localhost:8080/",
          "height": 226
        },
        "id": "ClP7zmFVQGCw",
        "outputId": "c46fa299-78ac-4ac8-b398-03c976114fa5"
      },
      "source": [
        "df.head()"
      ],
      "execution_count": 279,
      "outputs": [
        {
          "output_type": "execute_result",
          "data": {
            "text/html": [
              "<div>\n",
              "<style scoped>\n",
              "    .dataframe tbody tr th:only-of-type {\n",
              "        vertical-align: middle;\n",
              "    }\n",
              "\n",
              "    .dataframe tbody tr th {\n",
              "        vertical-align: top;\n",
              "    }\n",
              "\n",
              "    .dataframe thead th {\n",
              "        text-align: right;\n",
              "    }\n",
              "</style>\n",
              "<table border=\"1\" class=\"dataframe\">\n",
              "  <thead>\n",
              "    <tr style=\"text-align: right;\">\n",
              "      <th></th>\n",
              "      <th>disbursed_amount</th>\n",
              "      <th>interest</th>\n",
              "      <th>householder</th>\n",
              "      <th>income</th>\n",
              "      <th>target</th>\n",
              "      <th>number_open_accounts</th>\n",
              "      <th>number_credit_lines_12</th>\n",
              "      <th>market_enc</th>\n",
              "      <th>employment_enc</th>\n",
              "      <th>time_employed_enc</th>\n",
              "      <th>date_issued_enc</th>\n",
              "      <th>loan_purpose_enc</th>\n",
              "      <th>date_last_payment_enc</th>\n",
              "    </tr>\n",
              "  </thead>\n",
              "  <tbody>\n",
              "    <tr>\n",
              "      <th>0</th>\n",
              "      <td>1.125506</td>\n",
              "      <td>0.665558</td>\n",
              "      <td>0.600420</td>\n",
              "      <td>0.246464</td>\n",
              "      <td>0</td>\n",
              "      <td>-1.576408</td>\n",
              "      <td>1.204079e-15</td>\n",
              "      <td>0.183294</td>\n",
              "      <td>1.642731</td>\n",
              "      <td>-1.043558</td>\n",
              "      <td>-0.969525</td>\n",
              "      <td>-0.420531</td>\n",
              "      <td>0.514636</td>\n",
              "    </tr>\n",
              "    <tr>\n",
              "      <th>1</th>\n",
              "      <td>-0.832384</td>\n",
              "      <td>-0.350106</td>\n",
              "      <td>2.113194</td>\n",
              "      <td>0.575646</td>\n",
              "      <td>0</td>\n",
              "      <td>0.089535</td>\n",
              "      <td>1.204079e-15</td>\n",
              "      <td>-0.625236</td>\n",
              "      <td>-1.619698</td>\n",
              "      <td>-1.043558</td>\n",
              "      <td>-0.195532</td>\n",
              "      <td>-1.053860</td>\n",
              "      <td>0.563701</td>\n",
              "    </tr>\n",
              "    <tr>\n",
              "      <th>2</th>\n",
              "      <td>-0.370105</td>\n",
              "      <td>-0.989096</td>\n",
              "      <td>0.600420</td>\n",
              "      <td>-0.032772</td>\n",
              "      <td>0</td>\n",
              "      <td>-0.835989</td>\n",
              "      <td>1.204079e-15</td>\n",
              "      <td>-1.433765</td>\n",
              "      <td>0.990245</td>\n",
              "      <td>-1.043558</td>\n",
              "      <td>-0.649252</td>\n",
              "      <td>-0.420531</td>\n",
              "      <td>-1.323058</td>\n",
              "    </tr>\n",
              "    <tr>\n",
              "      <th>3</th>\n",
              "      <td>-0.810666</td>\n",
              "      <td>-1.616507</td>\n",
              "      <td>0.600420</td>\n",
              "      <td>0.545111</td>\n",
              "      <td>0</td>\n",
              "      <td>1.385269</td>\n",
              "      <td>1.204079e-15</td>\n",
              "      <td>-1.433765</td>\n",
              "      <td>0.011516</td>\n",
              "      <td>-1.043558</td>\n",
              "      <td>0.912077</td>\n",
              "      <td>-0.420531</td>\n",
              "      <td>0.568161</td>\n",
              "    </tr>\n",
              "    <tr>\n",
              "      <th>4</th>\n",
              "      <td>2.212451</td>\n",
              "      <td>1.437888</td>\n",
              "      <td>0.600420</td>\n",
              "      <td>0.443973</td>\n",
              "      <td>0</td>\n",
              "      <td>0.274640</td>\n",
              "      <td>1.204079e-15</td>\n",
              "      <td>1.800353</td>\n",
              "      <td>-1.293455</td>\n",
              "      <td>0.662997</td>\n",
              "      <td>-0.014044</td>\n",
              "      <td>-0.420531</td>\n",
              "      <td>0.501255</td>\n",
              "    </tr>\n",
              "  </tbody>\n",
              "</table>\n",
              "</div>"
            ],
            "text/plain": [
              "   disbursed_amount  interest  ...  loan_purpose_enc  date_last_payment_enc\n",
              "0          1.125506  0.665558  ...         -0.420531               0.514636\n",
              "1         -0.832384 -0.350106  ...         -1.053860               0.563701\n",
              "2         -0.370105 -0.989096  ...         -0.420531              -1.323058\n",
              "3         -0.810666 -1.616507  ...         -0.420531               0.568161\n",
              "4          2.212451  1.437888  ...         -0.420531               0.501255\n",
              "\n",
              "[5 rows x 13 columns]"
            ]
          },
          "metadata": {
            "tags": []
          },
          "execution_count": 279
        }
      ]
    },
    {
      "cell_type": "code",
      "metadata": {
        "id": "bgm26KWUQIvo"
      },
      "source": [
        "X_data = df.drop('target',axis=1)\n",
        "Y_data = df['target']"
      ],
      "execution_count": 280,
      "outputs": []
    },
    {
      "cell_type": "code",
      "metadata": {
        "id": "aaK2ehy6QScj"
      },
      "source": [
        "from sklearn.model_selection import train_test_split\n",
        "X_train,X_test,Y_train,Y_test = train_test_split(X_data,Y_data,test_size = 0.3 )"
      ],
      "execution_count": 281,
      "outputs": []
    },
    {
      "cell_type": "code",
      "metadata": {
        "colab": {
          "base_uri": "https://localhost:8080/"
        },
        "id": "Rw0IeWRVaHaZ",
        "outputId": "a15d5f5b-d147-413b-ae0d-1323ee715eed"
      },
      "source": [
        "print(\"X TRaIN SIZE : \",X_train.shape,\" X TEST SIZE : \",X_test.shape,\"Y TRaIN SIZE : \",Y_train.shape,\"Y TRaIN SIZE : \",Y_test.shape)"
      ],
      "execution_count": 282,
      "outputs": [
        {
          "output_type": "stream",
          "text": [
            "X TRaIN SIZE :  (7000, 12)  X TEST SIZE :  (3000, 12) Y TRaIN SIZE :  (7000,) Y TRaIN SIZE :  (3000,)\n"
          ],
          "name": "stdout"
        }
      ]
    },
    {
      "cell_type": "code",
      "metadata": {
        "colab": {
          "base_uri": "https://localhost:8080/",
          "height": 444
        },
        "id": "iqDc_px1kjEw",
        "outputId": "faac517b-8a31-424a-89ce-34c8def82b47"
      },
      "source": [
        "X_train"
      ],
      "execution_count": 242,
      "outputs": [
        {
          "output_type": "execute_result",
          "data": {
            "text/html": [
              "<div>\n",
              "<style scoped>\n",
              "    .dataframe tbody tr th:only-of-type {\n",
              "        vertical-align: middle;\n",
              "    }\n",
              "\n",
              "    .dataframe tbody tr th {\n",
              "        vertical-align: top;\n",
              "    }\n",
              "\n",
              "    .dataframe thead th {\n",
              "        text-align: right;\n",
              "    }\n",
              "</style>\n",
              "<table border=\"1\" class=\"dataframe\">\n",
              "  <thead>\n",
              "    <tr style=\"text-align: right;\">\n",
              "      <th></th>\n",
              "      <th>disbursed_amount</th>\n",
              "      <th>interest</th>\n",
              "      <th>householder</th>\n",
              "      <th>income</th>\n",
              "      <th>number_open_accounts</th>\n",
              "      <th>number_credit_lines_12</th>\n",
              "      <th>market_enc</th>\n",
              "      <th>employment_enc</th>\n",
              "      <th>time_employed_enc</th>\n",
              "      <th>date_issued_enc</th>\n",
              "      <th>loan_purpose_enc</th>\n",
              "      <th>date_last_payment_enc</th>\n",
              "    </tr>\n",
              "  </thead>\n",
              "  <tbody>\n",
              "    <tr>\n",
              "      <th>76</th>\n",
              "      <td>0.811963</td>\n",
              "      <td>-0.896564</td>\n",
              "      <td>-0.912354</td>\n",
              "      <td>-0.482653</td>\n",
              "      <td>-0.280674</td>\n",
              "      <td>1.204079e-15</td>\n",
              "      <td>-1.433765</td>\n",
              "      <td>0.011516</td>\n",
              "      <td>0.662997</td>\n",
              "      <td>-0.846753</td>\n",
              "      <td>-0.420531</td>\n",
              "      <td>-0.970685</td>\n",
              "    </tr>\n",
              "    <tr>\n",
              "      <th>5976</th>\n",
              "      <td>-0.830523</td>\n",
              "      <td>-0.003635</td>\n",
              "      <td>-0.912354</td>\n",
              "      <td>-0.843239</td>\n",
              "      <td>-0.095570</td>\n",
              "      <td>1.204079e-15</td>\n",
              "      <td>0.183294</td>\n",
              "      <td>0.990245</td>\n",
              "      <td>0.662997</td>\n",
              "      <td>0.615825</td>\n",
              "      <td>-0.420531</td>\n",
              "      <td>0.416507</td>\n",
              "    </tr>\n",
              "    <tr>\n",
              "      <th>5969</th>\n",
              "      <td>-0.800738</td>\n",
              "      <td>-0.068525</td>\n",
              "      <td>-0.912354</td>\n",
              "      <td>-0.455032</td>\n",
              "      <td>-1.021094</td>\n",
              "      <td>1.204079e-15</td>\n",
              "      <td>0.183294</td>\n",
              "      <td>0.011516</td>\n",
              "      <td>2.369551</td>\n",
              "      <td>0.218153</td>\n",
              "      <td>2.746117</td>\n",
              "      <td>0.336219</td>\n",
              "    </tr>\n",
              "    <tr>\n",
              "      <th>2569</th>\n",
              "      <td>1.899715</td>\n",
              "      <td>0.073000</td>\n",
              "      <td>-0.912354</td>\n",
              "      <td>-0.228011</td>\n",
              "      <td>-1.021094</td>\n",
              "      <td>1.204079e-15</td>\n",
              "      <td>0.183294</td>\n",
              "      <td>0.011516</td>\n",
              "      <td>0.662997</td>\n",
              "      <td>1.090896</td>\n",
              "      <td>-0.420531</td>\n",
              "      <td>0.501255</td>\n",
              "    </tr>\n",
              "    <tr>\n",
              "      <th>829</th>\n",
              "      <td>-0.078529</td>\n",
              "      <td>0.847917</td>\n",
              "      <td>0.600420</td>\n",
              "      <td>-0.464870</td>\n",
              "      <td>-1.206198</td>\n",
              "      <td>1.204079e-15</td>\n",
              "      <td>0.991823</td>\n",
              "      <td>0.337759</td>\n",
              "      <td>-1.043558</td>\n",
              "      <td>0.455689</td>\n",
              "      <td>-0.420531</td>\n",
              "      <td>0.429888</td>\n",
              "    </tr>\n",
              "    <tr>\n",
              "      <th>...</th>\n",
              "      <td>...</td>\n",
              "      <td>...</td>\n",
              "      <td>...</td>\n",
              "      <td>...</td>\n",
              "      <td>...</td>\n",
              "      <td>...</td>\n",
              "      <td>...</td>\n",
              "      <td>...</td>\n",
              "      <td>...</td>\n",
              "      <td>...</td>\n",
              "      <td>...</td>\n",
              "      <td>...</td>\n",
              "    </tr>\n",
              "    <tr>\n",
              "      <th>1802</th>\n",
              "      <td>-0.502894</td>\n",
              "      <td>2.446435</td>\n",
              "      <td>0.600420</td>\n",
              "      <td>-0.711756</td>\n",
              "      <td>4.717155</td>\n",
              "      <td>1.204079e-15</td>\n",
              "      <td>1.800353</td>\n",
              "      <td>-0.967212</td>\n",
              "      <td>-1.043558</td>\n",
              "      <td>0.888057</td>\n",
              "      <td>-0.420531</td>\n",
              "      <td>0.492334</td>\n",
              "    </tr>\n",
              "    <tr>\n",
              "      <th>9171</th>\n",
              "      <td>-1.182972</td>\n",
              "      <td>-1.796445</td>\n",
              "      <td>-0.912354</td>\n",
              "      <td>0.053496</td>\n",
              "      <td>-1.021094</td>\n",
              "      <td>1.204079e-15</td>\n",
              "      <td>-1.433765</td>\n",
              "      <td>0.011516</td>\n",
              "      <td>2.369551</td>\n",
              "      <td>0.936098</td>\n",
              "      <td>1.479458</td>\n",
              "      <td>0.501255</td>\n",
              "    </tr>\n",
              "    <tr>\n",
              "      <th>2215</th>\n",
              "      <td>-0.032301</td>\n",
              "      <td>1.682528</td>\n",
              "      <td>2.113194</td>\n",
              "      <td>-0.417574</td>\n",
              "      <td>1.015059</td>\n",
              "      <td>1.204079e-15</td>\n",
              "      <td>0.991823</td>\n",
              "      <td>0.990245</td>\n",
              "      <td>0.662997</td>\n",
              "      <td>-0.427730</td>\n",
              "      <td>-0.420531</td>\n",
              "      <td>0.483413</td>\n",
              "    </tr>\n",
              "    <tr>\n",
              "      <th>824</th>\n",
              "      <td>0.529632</td>\n",
              "      <td>0.684159</td>\n",
              "      <td>-0.912354</td>\n",
              "      <td>-0.438687</td>\n",
              "      <td>-0.280674</td>\n",
              "      <td>1.204079e-15</td>\n",
              "      <td>0.183294</td>\n",
              "      <td>-0.314727</td>\n",
              "      <td>0.662997</td>\n",
              "      <td>-0.742665</td>\n",
              "      <td>-0.420531</td>\n",
              "      <td>0.559240</td>\n",
              "    </tr>\n",
              "    <tr>\n",
              "      <th>8203</th>\n",
              "      <td>0.712310</td>\n",
              "      <td>1.191517</td>\n",
              "      <td>-0.912354</td>\n",
              "      <td>-0.363089</td>\n",
              "      <td>-0.650884</td>\n",
              "      <td>1.204079e-15</td>\n",
              "      <td>1.800353</td>\n",
              "      <td>1.316488</td>\n",
              "      <td>0.662997</td>\n",
              "      <td>0.372952</td>\n",
              "      <td>-0.420531</td>\n",
              "      <td>-0.462196</td>\n",
              "    </tr>\n",
              "  </tbody>\n",
              "</table>\n",
              "<p>7000 rows × 12 columns</p>\n",
              "</div>"
            ],
            "text/plain": [
              "      disbursed_amount  interest  ...  loan_purpose_enc  date_last_payment_enc\n",
              "76            0.811963 -0.896564  ...         -0.420531              -0.970685\n",
              "5976         -0.830523 -0.003635  ...         -0.420531               0.416507\n",
              "5969         -0.800738 -0.068525  ...          2.746117               0.336219\n",
              "2569          1.899715  0.073000  ...         -0.420531               0.501255\n",
              "829          -0.078529  0.847917  ...         -0.420531               0.429888\n",
              "...                ...       ...  ...               ...                    ...\n",
              "1802         -0.502894  2.446435  ...         -0.420531               0.492334\n",
              "9171         -1.182972 -1.796445  ...          1.479458               0.501255\n",
              "2215         -0.032301  1.682528  ...         -0.420531               0.483413\n",
              "824           0.529632  0.684159  ...         -0.420531               0.559240\n",
              "8203          0.712310  1.191517  ...         -0.420531              -0.462196\n",
              "\n",
              "[7000 rows x 12 columns]"
            ]
          },
          "metadata": {
            "tags": []
          },
          "execution_count": 242
        }
      ]
    },
    {
      "cell_type": "code",
      "metadata": {
        "colab": {
          "base_uri": "https://localhost:8080/"
        },
        "id": "mciUi2ZxaUPP",
        "outputId": "37b9c64d-5578-4db8-b967-a2ce1ccc188a"
      },
      "source": [
        "X_train.values"
      ],
      "execution_count": 169,
      "outputs": [
        {
          "output_type": "execute_result",
          "data": {
            "text/plain": [
              "array([[ 0.81196323, -0.89656423, -0.91235388, ..., -0.84675336,\n",
              "        -0.42053087, -0.97068456],\n",
              "       [-0.83052276, -0.0036347 , -0.91235388, ...,  0.61582504,\n",
              "        -0.42053087,  0.4165066 ],\n",
              "       [-0.80073835, -0.06852542, -0.91235388, ...,  0.21815318,\n",
              "         2.74611725,  0.33621901],\n",
              "       ...,\n",
              "       [-0.03230063,  1.68252754,  2.11319373, ..., -0.42772998,\n",
              "        -0.42053087,  0.48341293],\n",
              "       [ 0.52963186,  0.68415949, -0.91235388, ..., -0.74266475,\n",
              "        -0.42053087,  0.5592401 ],\n",
              "       [ 0.71230956,  1.19151713, -0.91235388, ...,  0.37295162,\n",
              "        -0.42053087, -0.46219648]])"
            ]
          },
          "metadata": {
            "tags": []
          },
          "execution_count": 169
        }
      ]
    },
    {
      "cell_type": "code",
      "metadata": {
        "colab": {
          "base_uri": "https://localhost:8080/",
          "height": 317
        },
        "id": "CNHEFhtaQWrf",
        "outputId": "bfd1f727-f9f8-41f0-cfea-6cd113525fee"
      },
      "source": [
        "from sklearn import ensemble\n",
        "classifier = ensemble.RandomForestClassifier(criterion='entropy')\n",
        "classifier.fit(X_train,Y_train)\n",
        "Y_pred = classifier.predict(X_test)\n",
        "print(\"Error:\",mean_squared_error(Y_test, Y_pred))\n",
        "print(\"Accuracy:\",accuracy_score(Y_test,Y_pred))\n",
        "cnf = confusion_matrix(Y_test,Y_pred)\n",
        "sns.heatmap(cnf,annot=True)"
      ],
      "execution_count": null,
      "outputs": [
        {
          "output_type": "stream",
          "text": [
            "Error: 0.011666666666666667\n",
            "Accuracy: 0.9883333333333333\n"
          ],
          "name": "stdout"
        },
        {
          "output_type": "execute_result",
          "data": {
            "text/plain": [
              "<matplotlib.axes._subplots.AxesSubplot at 0x7fe1ea50afd0>"
            ]
          },
          "metadata": {
            "tags": []
          },
          "execution_count": 85
        },
        {
          "output_type": "display_data",
          "data": {
            "image/png": "[encoded data removed]",
            "text/plain": [
              "<Figure size 432x288 with 2 Axes>"
            ]
          },
          "metadata": {
            "tags": [],
            "needs_background": "light"
          }
        }
      ]
    },
    {
      "cell_type": "code",
      "metadata": {
        "id": "2TjVDyU0aSQj"
      },
      "source": [
        ""
      ],
      "execution_count": null,
      "outputs": []
    },
    {
      "cell_type": "code",
      "metadata": {
        "colab": {
          "base_uri": "https://localhost:8080/",
          "height": 317
        },
        "id": "DS0xl2rfQydN",
        "outputId": "8c465c20-d28b-4760-e211-5cca8f0fb7a8"
      },
      "source": [
        "from sklearn.tree import DecisionTreeClassifier\n",
        "\n",
        "classifier = DecisionTreeClassifier(criterion='entropy',splitter='random')\n",
        "classifier.fit(X_train,Y_train)\n",
        "Y_pred = classifier.predict(X_test)\n",
        "print(\"Error:\",mean_squared_error(Y_test, Y_pred))\n",
        "print(\"Accuracy:\",accuracy_score(Y_test,Y_pred))\n",
        "cnf = confusion_matrix(Y_test,Y_pred)\n",
        "sns.heatmap(cnf,annot=True)"
      ],
      "execution_count": null,
      "outputs": [
        {
          "output_type": "stream",
          "text": [
            "Error: 0.027\n",
            "Accuracy: 0.973\n"
          ],
          "name": "stdout"
        },
        {
          "output_type": "execute_result",
          "data": {
            "text/plain": [
              "<matplotlib.axes._subplots.AxesSubplot at 0x7fe1ea4dbc10>"
            ]
          },
          "metadata": {
            "tags": []
          },
          "execution_count": 86
        },
        {
          "output_type": "display_data",
          "data": {
            "image/png": "[encoded data removed]",
            "text/plain": [
              "<Figure size 432x288 with 2 Axes>"
            ]
          },
          "metadata": {
            "tags": [],
            "needs_background": "light"
          }
        }
      ]
    },
    {
      "cell_type": "code",
      "metadata": {
        "colab": {
          "base_uri": "https://localhost:8080/"
        },
        "id": "QsMrYFy3Rt99",
        "outputId": "e3629869-b64d-48de-bc2f-548c20d1f8ca"
      },
      "source": [
        "df[\"target\"].value_counts()"
      ],
      "execution_count": null,
      "outputs": [
        {
          "output_type": "execute_result",
          "data": {
            "text/plain": [
              "0    9883\n",
              "1     117\n",
              "Name: target, dtype: int64"
            ]
          },
          "metadata": {
            "tags": []
          },
          "execution_count": 87
        }
      ]
    },
    {
      "cell_type": "code",
      "metadata": {
        "id": "uJs0FwaZSZrp"
      },
      "source": [
        "from sklearn import datasets\n"
      ],
      "execution_count": null,
      "outputs": []
    },
    {
      "cell_type": "code",
      "metadata": {
        "colab": {
          "base_uri": "https://localhost:8080/",
          "height": 206
        },
        "id": "uiouXVHBTA-C",
        "outputId": "80af0d3d-1a4e-4453-db7c-d6b74ade016f"
      },
      "source": [
        "a = datasets.load_boston()\n",
        "X = pd.DataFrame(a.data,columns = a.feature_names)\n",
        "X['class'] = a.target\n",
        "X.head()\n",
        "\n"
      ],
      "execution_count": null,
      "outputs": [
        {
          "output_type": "execute_result",
          "data": {
            "text/html": [
              "<div>\n",
              "<style scoped>\n",
              "    .dataframe tbody tr th:only-of-type {\n",
              "        vertical-align: middle;\n",
              "    }\n",
              "\n",
              "    .dataframe tbody tr th {\n",
              "        vertical-align: top;\n",
              "    }\n",
              "\n",
              "    .dataframe thead th {\n",
              "        text-align: right;\n",
              "    }\n",
              "</style>\n",
              "<table border=\"1\" class=\"dataframe\">\n",
              "  <thead>\n",
              "    <tr style=\"text-align: right;\">\n",
              "      <th></th>\n",
              "      <th>CRIM</th>\n",
              "      <th>ZN</th>\n",
              "      <th>INDUS</th>\n",
              "      <th>CHAS</th>\n",
              "      <th>NOX</th>\n",
              "      <th>RM</th>\n",
              "      <th>AGE</th>\n",
              "      <th>DIS</th>\n",
              "      <th>RAD</th>\n",
              "      <th>TAX</th>\n",
              "      <th>PTRATIO</th>\n",
              "      <th>B</th>\n",
              "      <th>LSTAT</th>\n",
              "      <th>class</th>\n",
              "    </tr>\n",
              "  </thead>\n",
              "  <tbody>\n",
              "    <tr>\n",
              "      <th>0</th>\n",
              "      <td>0.00632</td>\n",
              "      <td>18.0</td>\n",
              "      <td>2.31</td>\n",
              "      <td>0.0</td>\n",
              "      <td>0.538</td>\n",
              "      <td>6.575</td>\n",
              "      <td>65.2</td>\n",
              "      <td>4.0900</td>\n",
              "      <td>1.0</td>\n",
              "      <td>296.0</td>\n",
              "      <td>15.3</td>\n",
              "      <td>396.90</td>\n",
              "      <td>4.98</td>\n",
              "      <td>24.0</td>\n",
              "    </tr>\n",
              "    <tr>\n",
              "      <th>1</th>\n",
              "      <td>0.02731</td>\n",
              "      <td>0.0</td>\n",
              "      <td>7.07</td>\n",
              "      <td>0.0</td>\n",
              "      <td>0.469</td>\n",
              "      <td>6.421</td>\n",
              "      <td>78.9</td>\n",
              "      <td>4.9671</td>\n",
              "      <td>2.0</td>\n",
              "      <td>242.0</td>\n",
              "      <td>17.8</td>\n",
              "      <td>396.90</td>\n",
              "      <td>9.14</td>\n",
              "      <td>21.6</td>\n",
              "    </tr>\n",
              "    <tr>\n",
              "      <th>2</th>\n",
              "      <td>0.02729</td>\n",
              "      <td>0.0</td>\n",
              "      <td>7.07</td>\n",
              "      <td>0.0</td>\n",
              "      <td>0.469</td>\n",
              "      <td>7.185</td>\n",
              "      <td>61.1</td>\n",
              "      <td>4.9671</td>\n",
              "      <td>2.0</td>\n",
              "      <td>242.0</td>\n",
              "      <td>17.8</td>\n",
              "      <td>392.83</td>\n",
              "      <td>4.03</td>\n",
              "      <td>34.7</td>\n",
              "    </tr>\n",
              "    <tr>\n",
              "      <th>3</th>\n",
              "      <td>0.03237</td>\n",
              "      <td>0.0</td>\n",
              "      <td>2.18</td>\n",
              "      <td>0.0</td>\n",
              "      <td>0.458</td>\n",
              "      <td>6.998</td>\n",
              "      <td>45.8</td>\n",
              "      <td>6.0622</td>\n",
              "      <td>3.0</td>\n",
              "      <td>222.0</td>\n",
              "      <td>18.7</td>\n",
              "      <td>394.63</td>\n",
              "      <td>2.94</td>\n",
              "      <td>33.4</td>\n",
              "    </tr>\n",
              "    <tr>\n",
              "      <th>4</th>\n",
              "      <td>0.06905</td>\n",
              "      <td>0.0</td>\n",
              "      <td>2.18</td>\n",
              "      <td>0.0</td>\n",
              "      <td>0.458</td>\n",
              "      <td>7.147</td>\n",
              "      <td>54.2</td>\n",
              "      <td>6.0622</td>\n",
              "      <td>3.0</td>\n",
              "      <td>222.0</td>\n",
              "      <td>18.7</td>\n",
              "      <td>396.90</td>\n",
              "      <td>5.33</td>\n",
              "      <td>36.2</td>\n",
              "    </tr>\n",
              "  </tbody>\n",
              "</table>\n",
              "</div>"
            ],
            "text/plain": [
              "      CRIM    ZN  INDUS  CHAS    NOX  ...    TAX  PTRATIO       B  LSTAT  class\n",
              "0  0.00632  18.0   2.31   0.0  0.538  ...  296.0     15.3  396.90   4.98   24.0\n",
              "1  0.02731   0.0   7.07   0.0  0.469  ...  242.0     17.8  396.90   9.14   21.6\n",
              "2  0.02729   0.0   7.07   0.0  0.469  ...  242.0     17.8  392.83   4.03   34.7\n",
              "3  0.03237   0.0   2.18   0.0  0.458  ...  222.0     18.7  394.63   2.94   33.4\n",
              "4  0.06905   0.0   2.18   0.0  0.458  ...  222.0     18.7  396.90   5.33   36.2\n",
              "\n",
              "[5 rows x 14 columns]"
            ]
          },
          "metadata": {
            "tags": []
          },
          "execution_count": 94
        }
      ]
    },
    {
      "cell_type": "code",
      "metadata": {
        "id": "glN8WsJGTKrC"
      },
      "source": [
        "from sklearn.preprocessing import MinMaxScaler\n",
        "scaler = MinMaxScaler()\n",
        "X[[\"CRIM\",\"ZN\",\"INDUS\",\"CHAS\",\"NOX\",\"RM\",\"AGE\",\"DIS\",\"RAD\",\"TAX\",\"PTRATIO\",\"B\",\"LSTAT\"]] = scaler.fit_transform(X[[\"CRIM\",\"ZN\",\"INDUS\",\"CHAS\",\"NOX\",\"RM\",\"AGE\",\"DIS\",\"RAD\",\"TAX\",\"PTRATIO\",\"B\",\"LSTAT\"]])"
      ],
      "execution_count": null,
      "outputs": []
    },
    {
      "cell_type": "code",
      "metadata": {
        "id": "Qq9-lyh3T4Yc"
      },
      "source": [
        "X_data = X.drop('class',axis=1)\n",
        "Y_data = X['class']"
      ],
      "execution_count": null,
      "outputs": []
    },
    {
      "cell_type": "code",
      "metadata": {
        "id": "JUPandI7U2Hr"
      },
      "source": [
        "from sklearn.model_selection import train_test_split\n",
        "X_train,X_test,Y_train,Y_test = train_test_split(X_data,Y_data,test_size = 0.3 )"
      ],
      "execution_count": null,
      "outputs": []
    },
    {
      "cell_type": "code",
      "metadata": {
        "colab": {
          "base_uri": "https://localhost:8080/",
          "height": 380
        },
        "id": "iGBu2FeZUkJH",
        "outputId": "ae44455a-1ac6-431c-cbe2-ec1551c4a0f1"
      },
      "source": [
        "from sklearn.neural_network import MLPRegressor\n",
        "model = MLPRegressor(hidden_layer_sizes = (50,100,150),activation='relu',solver='adam', learning_rate='adaptive',early_stopping = True,max_iter=300)\n",
        "model.fit(X_train,Y_train)\n",
        "Y_pred = model.predict(X_test)\n",
        "print(\"Error:\",mean_squared_error(Y_test, Y_pred))\n"
      ],
      "execution_count": null,
      "outputs": [
        {
          "output_type": "stream",
          "text": [
            "Error: 13.391293219316193\n"
          ],
          "name": "stdout"
        },
        {
          "output_type": "error",
          "ename": "ValueError",
          "evalue": "ignored",
          "traceback": [
            "\u001b[0;31m---------------------------------------------------------------------------\u001b[0m",
            "\u001b[0;31mValueError\u001b[0m                                Traceback (most recent call last)",
            "\u001b[0;32m<ipython-input-102-207034497191>\u001b[0m in \u001b[0;36m<module>\u001b[0;34m()\u001b[0m\n\u001b[1;32m      4\u001b[0m \u001b[0mY_pred\u001b[0m \u001b[0;34m=\u001b[0m \u001b[0mmodel\u001b[0m\u001b[0;34m.\u001b[0m\u001b[0mpredict\u001b[0m\u001b[0;34m(\u001b[0m\u001b[0mX_test\u001b[0m\u001b[0;34m)\u001b[0m\u001b[0;34m\u001b[0m\u001b[0;34m\u001b[0m\u001b[0m\n\u001b[1;32m      5\u001b[0m \u001b[0mprint\u001b[0m\u001b[0;34m(\u001b[0m\u001b[0;34m\"Error:\"\u001b[0m\u001b[0;34m,\u001b[0m\u001b[0mmean_squared_error\u001b[0m\u001b[0;34m(\u001b[0m\u001b[0mY_test\u001b[0m\u001b[0;34m,\u001b[0m \u001b[0mY_pred\u001b[0m\u001b[0;34m)\u001b[0m\u001b[0;34m)\u001b[0m\u001b[0;34m\u001b[0m\u001b[0;34m\u001b[0m\u001b[0m\n\u001b[0;32m----> 6\u001b[0;31m \u001b[0mcnf\u001b[0m \u001b[0;34m=\u001b[0m \u001b[0mconfusion_matrix\u001b[0m\u001b[0;34m(\u001b[0m\u001b[0mY_test\u001b[0m\u001b[0;34m,\u001b[0m\u001b[0mY_pred\u001b[0m\u001b[0;34m)\u001b[0m\u001b[0;34m\u001b[0m\u001b[0;34m\u001b[0m\u001b[0m\n\u001b[0m\u001b[1;32m      7\u001b[0m \u001b[0msns\u001b[0m\u001b[0;34m.\u001b[0m\u001b[0mheatmap\u001b[0m\u001b[0;34m(\u001b[0m\u001b[0mcnf\u001b[0m\u001b[0;34m,\u001b[0m\u001b[0mannot\u001b[0m\u001b[0;34m=\u001b[0m\u001b[0;32mTrue\u001b[0m\u001b[0;34m)\u001b[0m\u001b[0;34m\u001b[0m\u001b[0;34m\u001b[0m\u001b[0m\n",
            "\u001b[0;32m/usr/local/lib/python3.7/dist-packages/sklearn/metrics/_classification.py\u001b[0m in \u001b[0;36mconfusion_matrix\u001b[0;34m(y_true, y_pred, labels, sample_weight, normalize)\u001b[0m\n\u001b[1;32m    266\u001b[0m \u001b[0;34m\u001b[0m\u001b[0m\n\u001b[1;32m    267\u001b[0m     \"\"\"\n\u001b[0;32m--> 268\u001b[0;31m     \u001b[0my_type\u001b[0m\u001b[0;34m,\u001b[0m \u001b[0my_true\u001b[0m\u001b[0;34m,\u001b[0m \u001b[0my_pred\u001b[0m \u001b[0;34m=\u001b[0m \u001b[0m_check_targets\u001b[0m\u001b[0;34m(\u001b[0m\u001b[0my_true\u001b[0m\u001b[0;34m,\u001b[0m \u001b[0my_pred\u001b[0m\u001b[0;34m)\u001b[0m\u001b[0;34m\u001b[0m\u001b[0;34m\u001b[0m\u001b[0m\n\u001b[0m\u001b[1;32m    269\u001b[0m     \u001b[0;32mif\u001b[0m \u001b[0my_type\u001b[0m \u001b[0;32mnot\u001b[0m \u001b[0;32min\u001b[0m \u001b[0;34m(\u001b[0m\u001b[0;34m\"binary\"\u001b[0m\u001b[0;34m,\u001b[0m \u001b[0;34m\"multiclass\"\u001b[0m\u001b[0;34m)\u001b[0m\u001b[0;34m:\u001b[0m\u001b[0;34m\u001b[0m\u001b[0;34m\u001b[0m\u001b[0m\n\u001b[1;32m    270\u001b[0m         \u001b[0;32mraise\u001b[0m \u001b[0mValueError\u001b[0m\u001b[0;34m(\u001b[0m\u001b[0;34m\"%s is not supported\"\u001b[0m \u001b[0;34m%\u001b[0m \u001b[0my_type\u001b[0m\u001b[0;34m)\u001b[0m\u001b[0;34m\u001b[0m\u001b[0;34m\u001b[0m\u001b[0m\n",
            "\u001b[0;32m/usr/local/lib/python3.7/dist-packages/sklearn/metrics/_classification.py\u001b[0m in \u001b[0;36m_check_targets\u001b[0;34m(y_true, y_pred)\u001b[0m\n\u001b[1;32m     95\u001b[0m     \u001b[0;31m# No metrics support \"multiclass-multioutput\" format\u001b[0m\u001b[0;34m\u001b[0m\u001b[0;34m\u001b[0m\u001b[0;34m\u001b[0m\u001b[0m\n\u001b[1;32m     96\u001b[0m     \u001b[0;32mif\u001b[0m \u001b[0;34m(\u001b[0m\u001b[0my_type\u001b[0m \u001b[0;32mnot\u001b[0m \u001b[0;32min\u001b[0m \u001b[0;34m[\u001b[0m\u001b[0;34m\"binary\"\u001b[0m\u001b[0;34m,\u001b[0m \u001b[0;34m\"multiclass\"\u001b[0m\u001b[0;34m,\u001b[0m \u001b[0;34m\"multilabel-indicator\"\u001b[0m\u001b[0;34m]\u001b[0m\u001b[0;34m)\u001b[0m\u001b[0;34m:\u001b[0m\u001b[0;34m\u001b[0m\u001b[0;34m\u001b[0m\u001b[0m\n\u001b[0;32m---> 97\u001b[0;31m         \u001b[0;32mraise\u001b[0m \u001b[0mValueError\u001b[0m\u001b[0;34m(\u001b[0m\u001b[0;34m\"{0} is not supported\"\u001b[0m\u001b[0;34m.\u001b[0m\u001b[0mformat\u001b[0m\u001b[0;34m(\u001b[0m\u001b[0my_type\u001b[0m\u001b[0;34m)\u001b[0m\u001b[0;34m)\u001b[0m\u001b[0;34m\u001b[0m\u001b[0;34m\u001b[0m\u001b[0m\n\u001b[0m\u001b[1;32m     98\u001b[0m \u001b[0;34m\u001b[0m\u001b[0m\n\u001b[1;32m     99\u001b[0m     \u001b[0;32mif\u001b[0m \u001b[0my_type\u001b[0m \u001b[0;32min\u001b[0m \u001b[0;34m[\u001b[0m\u001b[0;34m\"binary\"\u001b[0m\u001b[0;34m,\u001b[0m \u001b[0;34m\"multiclass\"\u001b[0m\u001b[0;34m]\u001b[0m\u001b[0;34m:\u001b[0m\u001b[0;34m\u001b[0m\u001b[0;34m\u001b[0m\u001b[0m\n",
            "\u001b[0;31mValueError\u001b[0m: continuous is not supported"
          ]
        }
      ]
    },
    {
      "cell_type": "code",
      "metadata": {
        "colab": {
          "base_uri": "https://localhost:8080/"
        },
        "id": "M2RCA98rU6Hh",
        "outputId": "b56bff79-03c3-4ad0-f0ec-bad91c8bba80"
      },
      "source": [
        "from sklearn.neighbors import KNeighborsClassifier  \n",
        "model = MLPRegressor(hidden_layer_sizes = (50,100,150),activation='relu',solver='adam', learning_rate='adaptive',early_stopping = True,max_iter=300)\n",
        "model.fit(X_train,Y_train)\n",
        "Y_pred = model.predict(X_test)\n",
        "print(\"Error:\",mean_squared_error(Y_test, Y_pred))\n",
        "\n"
      ],
      "execution_count": null,
      "outputs": [
        {
          "output_type": "stream",
          "text": [
            "Error: 10.910939663582127\n"
          ],
          "name": "stdout"
        }
      ]
    },
    {
      "cell_type": "code",
      "metadata": {
        "colab": {
          "base_uri": "https://localhost:8080/"
        },
        "id": "eCVGrZ7bkz8K",
        "outputId": "934071d7-3517-4562-fbea-df0408b8908b"
      },
      "source": [
        "YSEC = Y_train.values\n",
        "print(YSEC.shape)"
      ],
      "execution_count": 249,
      "outputs": [
        {
          "output_type": "stream",
          "text": [
            "(7000,)\n"
          ],
          "name": "stdout"
        }
      ]
    },
    {
      "cell_type": "code",
      "metadata": {
        "colab": {
          "base_uri": "https://localhost:8080/"
        },
        "id": "TTVlz6Gfk585",
        "outputId": "fc15a709-5be9-4e63-f4e0-e2d069927f45"
      },
      "source": [
        "\n",
        "YSEC = YSEC.reshape(-1,1)\n",
        "print(YSEC.shape)"
      ],
      "execution_count": 250,
      "outputs": [
        {
          "output_type": "stream",
          "text": [
            "(7000, 1)\n"
          ],
          "name": "stdout"
        }
      ]
    },
    {
      "cell_type": "code",
      "metadata": {
        "id": "VPsFmC7dV7aM"
      },
      "source": [
        "#initialise weight and bias matrix\n",
        "def initialize_with_zeros(dim):\n",
        "   \n",
        "    w = np.zeros((dim,1))\n",
        "    b = 0\n",
        "   \n",
        "    assert(w.shape == (dim, 1))\n",
        "    assert(isinstance(b, float) or isinstance(b, int))\n",
        "    \n",
        "    return w, b"
      ],
      "execution_count": 283,
      "outputs": []
    },
    {
      "cell_type": "code",
      "metadata": {
        "id": "D6mwj8BBUU56"
      },
      "source": [
        "#Sigmoid activation utility\n",
        "def sigmoid(z):\n",
        "   \n",
        "    s = 1/(1+(np.exp(-z)))\n",
        "    \n",
        "    return s"
      ],
      "execution_count": 284,
      "outputs": []
    },
    {
      "cell_type": "code",
      "metadata": {
        "id": "iSjOH1pIUW-b"
      },
      "source": [
        "def binary_activation(z):\n",
        "  s = np.zeros(z.shape)\n",
        "  rows = z.shape[0]\n",
        "  cols = z.shape[1]\n",
        "  for x in range(0, rows):\n",
        "    for y in range(0, cols):\n",
        "         if z[x,y]  >= 0.2: \n",
        "           s[x,y] = 1\n",
        "         else :\n",
        "           s[x,y] = 0\n",
        "  return s"
      ],
      "execution_count": 285,
      "outputs": []
    },
    {
      "cell_type": "code",
      "metadata": {
        "id": "06QNJfQ9UZ5T"
      },
      "source": [
        "#forward and backward propogation\n",
        "def propagate(w, b, X, Y):\n",
        "    \n",
        "    m = 1\n",
        "    X = X.reshape(-1,1)\n",
        "    A = sigmoid(np.dot(w.T,X)+b)          \n",
        "    A = A.reshape(-1,1)\n",
        "    cost = (-1/m) * (np.dot(Y,(np.log(A)).T) + np.dot(1-Y,(np.log(1-A)).T))                               \n",
        "    dw = np.dot(X,(A-Y).T)/m\n",
        "    db = (1/m) * np.sum(A-Y)\n",
        "\n",
        "    assert(dw.shape == w.shape)\n",
        "    assert(db.dtype == float)\n",
        "    cost = np.squeeze(cost)\n",
        "    assert(cost.shape == ())\n",
        "    \n",
        "    grads = {\"dw\": dw,\n",
        "             \"db\": db}\n",
        "    \n",
        "    return grads, cost"
      ],
      "execution_count": 291,
      "outputs": []
    },
    {
      "cell_type": "code",
      "metadata": {
        "id": "OudnTldiUcUI"
      },
      "source": [
        "#doing the computations\n",
        "def optimize(w, b, X, Y, num_iterations, learning_rate, print_cost = False):\n",
        "    \n",
        "    costs = []\n",
        "    Y_val = Y.values\n",
        "    Y_val = Y_val.reshape(-1,1)\n",
        "\n",
        "\n",
        "    print(\"x    :\",X.values.shape)\n",
        "    for i in range(num_iterations):\n",
        "      for row in range(0,100):\n",
        "        grads,cost = propagate(w,b,X.values[row,:],Y_val[row,:])\n",
        "        dw = grads[\"dw\"]\n",
        "        db = grads[\"db\"]\n",
        "        \n",
        "        w = w - (learning_rate * dw)\n",
        "        b = b - (learning_rate * db)\n",
        "        \n",
        "        \n",
        "        \n",
        "    \n",
        "    \n",
        "    params = {\"w\": w,\n",
        "              \"b\": b}\n",
        "    \n",
        "    grads = {\"dw\": dw,\n",
        "             \"db\": db}\n",
        "    \n",
        "    return params, grads, costs"
      ],
      "execution_count": 287,
      "outputs": []
    },
    {
      "cell_type": "code",
      "metadata": {
        "id": "Esf_Mg_4Ugbr"
      },
      "source": [
        "#Perceptron driver code\n",
        "def perceptron(X_train, Y_train, num_iterations, learning_rate = 0.5):\n",
        "   \n",
        "    w,b = initialize_with_zeros(X_train.shape[1])\n",
        "\n",
        "    parameters, grads, costs = optimize(w, b, X_train, Y_train, num_iterations, learning_rate)\n",
        "    \n",
        "    w = parameters[\"w\"]\n",
        "    b = parameters[\"b\"]\n",
        "\n",
        "    print(w.shape)\n",
        "    \n",
        "#    Y_prediction_test = predict(w, b, X_test)\n",
        "    Y_prediction_train = predict(w, b, X_train)\n",
        "\n",
        "    print(\"train accuracy: {} %\".format(100 - np.mean(np.abs(Y_prediction_train - Y_train.values[0:100])) * 100))\n",
        "#    print(\"test accuracy: {} %\".format(100 - np.mean(np.abs(Y_prediction_test - Y_test)) * 100))\n",
        "\n",
        "    \n",
        "    d = {\"costs\": costs, \n",
        "         \"Y_prediction_train\" : Y_prediction_train, \n",
        "         \"w\" : w, \n",
        "         \"b\" : b,\n",
        "         \"learning_rate\" : learning_rate,\n",
        "         \"num_iterations\": num_iterations}\n",
        "    \n",
        "    return d"
      ],
      "execution_count": 334,
      "outputs": []
    },
    {
      "cell_type": "code",
      "metadata": {
        "id": "FNRElhRGUjIN"
      },
      "source": [
        "#function to predict models performance\n",
        "def predict(w, b, X):\n",
        "    \n",
        "    m = X.shape[1]\n",
        "    Y_prediction = np.zeros((1,100))\n",
        "   # w = w.reshape(X.shape[0], 1)\n",
        "    \n",
        "    A = binary_activation(np.dot(X.values[0:100,:],w)+b)\n",
        "    Y_prediction = Y_prediction.T\n",
        "    print(\"Y_prediction \",Y_prediction.shape)\n",
        "    print(\"A \",A.shape)\n",
        "\n",
        "    \n",
        "\n",
        "    for i in range(100):\n",
        "        Y_prediction[i,0] = 1 if A[i,0] > 0.52 else 0\n",
        "    \n",
        "    \n",
        "    return Y_prediction"
      ],
      "execution_count": 335,
      "outputs": []
    },
    {
      "cell_type": "code",
      "metadata": {
        "colab": {
          "base_uri": "https://localhost:8080/"
        },
        "id": "viINowv-Ulyr",
        "outputId": "8f0555dd-a5ab-4655-9e1e-b0a67600fd88"
      },
      "source": [
        "#the main driver code\n",
        "print(\" M PRADEEP KUMAR - 20MAI0030\")\n",
        "output_dict = perceptron(X_train,Y_train,2,1)\n",
        "print(output_dict)"
      ],
      "execution_count": 336,
      "outputs": [
        {
          "output_type": "stream",
          "text": [
            " M PRADEEP KUMAR - 20MAI0030\n",
            "x    : (7000, 12)\n",
            "(12, 1)\n",
            "Y_prediction  (100, 1)\n",
            "A  (100, 1)\n",
            "train accuracy: 96.06 %\n",
            "{'costs': [], 'Y_prediction_train': array([[0.],\n",
            "       [1.],\n",
            "       [0.],\n",
            "       [0.],\n",
            "       [0.],\n",
            "       [0.],\n",
            "       [0.],\n",
            "       [0.],\n",
            "       [0.],\n",
            "       [0.],\n",
            "       [0.],\n",
            "       [0.],\n",
            "       [0.],\n",
            "       [0.],\n",
            "       [0.],\n",
            "       [0.],\n",
            "       [0.],\n",
            "       [0.],\n",
            "       [0.],\n",
            "       [0.],\n",
            "       [0.],\n",
            "       [0.],\n",
            "       [0.],\n",
            "       [0.],\n",
            "       [0.],\n",
            "       [0.],\n",
            "       [1.],\n",
            "       [0.],\n",
            "       [0.],\n",
            "       [0.],\n",
            "       [0.],\n",
            "       [0.],\n",
            "       [0.],\n",
            "       [0.],\n",
            "       [0.],\n",
            "       [0.],\n",
            "       [0.],\n",
            "       [0.],\n",
            "       [0.],\n",
            "       [0.],\n",
            "       [0.],\n",
            "       [0.],\n",
            "       [0.],\n",
            "       [0.],\n",
            "       [0.],\n",
            "       [0.],\n",
            "       [0.],\n",
            "       [0.],\n",
            "       [0.],\n",
            "       [0.],\n",
            "       [0.],\n",
            "       [0.],\n",
            "       [0.],\n",
            "       [0.],\n",
            "       [0.],\n",
            "       [0.],\n",
            "       [0.],\n",
            "       [0.],\n",
            "       [0.],\n",
            "       [0.],\n",
            "       [0.],\n",
            "       [0.],\n",
            "       [0.],\n",
            "       [0.],\n",
            "       [0.],\n",
            "       [0.],\n",
            "       [0.],\n",
            "       [0.],\n",
            "       [0.],\n",
            "       [0.],\n",
            "       [0.],\n",
            "       [0.],\n",
            "       [0.],\n",
            "       [0.],\n",
            "       [0.],\n",
            "       [0.],\n",
            "       [0.],\n",
            "       [0.],\n",
            "       [0.],\n",
            "       [0.],\n",
            "       [0.],\n",
            "       [0.],\n",
            "       [0.],\n",
            "       [0.],\n",
            "       [0.],\n",
            "       [1.],\n",
            "       [0.],\n",
            "       [0.],\n",
            "       [0.],\n",
            "       [0.],\n",
            "       [0.],\n",
            "       [0.],\n",
            "       [0.],\n",
            "       [0.],\n",
            "       [0.],\n",
            "       [0.],\n",
            "       [0.],\n",
            "       [0.],\n",
            "       [0.],\n",
            "       [0.]]), 'w': array([[ 0.43226125],\n",
            "       [-0.73283138],\n",
            "       [-1.18233835],\n",
            "       [ 1.03553831],\n",
            "       [-0.03912141],\n",
            "       [ 0.3367356 ],\n",
            "       [-1.53652129],\n",
            "       [ 1.43561646],\n",
            "       [ 1.9695364 ],\n",
            "       [-1.34504006],\n",
            "       [-3.07919451],\n",
            "       [ 0.78804518]]), 'b': -8.664558071746475, 'learning_rate': 1, 'num_iterations': 2}\n"
          ],
          "name": "stdout"
        }
      ]
    },
    {
      "cell_type": "code",
      "metadata": {
        "id": "VeWGJNcdUwnK"
      },
      "source": [
        ""
      ],
      "execution_count": null,
      "outputs": []
    }
  ]
}